{
 "cells": [
  {
   "cell_type": "markdown",
   "id": "612d394a",
   "metadata": {},
   "source": [
    "# Third-order Ground-State Bleaching spectra of a monomer system"
   ]
  },
  {
   "cell_type": "markdown",
   "id": "35f0a70c",
   "metadata": {},
   "source": [
    "Importing useful classes, methods and modules:"
   ]
  },
  {
   "cell_type": "code",
   "execution_count": 1,
   "id": "087526f3",
   "metadata": {},
   "outputs": [],
   "source": [
    "from qudofedi import Qjob, FeynmanDiagram, System, PostProcess\n",
    "from qutip import sigmaz\n",
    "from qiskit import Aer\n",
    "import numpy as np"
   ]
  },
  {
   "cell_type": "markdown",
   "id": "6ba39ff8",
   "metadata": {},
   "source": [
    "System parameters:"
   ]
  },
  {
   "cell_type": "code",
   "execution_count": 2,
   "id": "f14bb428",
   "metadata": {},
   "outputs": [],
   "source": [
    "e = 1.55                                     # Electronic energy gap [eV]\n",
    "H = - e / 2 * sigmaz()                       # Hamiltonian of the system [eV]\n",
    "\n",
    "mu = 1                                       # Electric dipole moment [a.u.]\n",
    "\n",
    "system = System(H, mu)                       # System object"
   ]
  },
  {
   "cell_type": "markdown",
   "id": "1b5916b5",
   "metadata": {},
   "source": [
    "Spectroscopy parameters:"
   ]
  },
  {
   "cell_type": "code",
   "execution_count": 3,
   "id": "d4332f1c",
   "metadata": {},
   "outputs": [],
   "source": [
    "t_1_min = 0.                                 # Initial delay time (t1) [rad/eV]\n",
    "t_1_max = 151.                               # Final delay time (t1) [rad/eV]\n",
    "dt_1 = 15.                                   # Delta delay time (t1) [rad/eV]\n",
    "t_1 = np.arange(t_1_min, t_1_max, dt_1)      # Delay time list (t1) [rad/eV]\n",
    "\n",
    "t_2 = [0]                                    # Delay time list (t2) [rad/eV]\n",
    "\n",
    "t_3_min = 0.                                 # Initial delay time (t3) [rad/eV]\n",
    "t_3_max = 151.                               # Final delay time (t3) [rad/eV]\n",
    "dt_3 = 15.                                   # Delta delay time (t3) [rad/eV]\n",
    "t_3 = np.arange(t_3_min, t_3_max, dt_3)      # Delay time list (t3) [rad/eV]\n",
    "\n",
    "t_list = [t_1, t_2, t_3]                     # List of delay times (t1, t2, t3) [rad/eV]\n",
    "\n",
    "FD = FeynmanDiagram('gsb', t_list)           # FeynmanDiagram object"
   ]
  },
  {
   "cell_type": "markdown",
   "id": "adb4907e",
   "metadata": {},
   "source": [
    "IBM Quantum backend:"
   ]
  },
  {
   "cell_type": "code",
   "execution_count": 4,
   "id": "dcfa75a5",
   "metadata": {},
   "outputs": [],
   "source": [
    "backend = Aer.get_backend('qasm_simulator')"
   ]
  },
  {
   "cell_type": "code",
   "execution_count": 5,
   "id": "5f63c93e",
   "metadata": {},
   "outputs": [],
   "source": [
    "# from qiskit_ibm_provider import IBMProvider\n",
    "# \n",
    "# provider = IBMProvider(instance='ibm-q/open/main')\n",
    "# backend = provider.get_backend('ibmq_manila')"
   ]
  },
  {
   "cell_type": "markdown",
   "id": "8cde99f3",
   "metadata": {},
   "source": [
    "Create the Qjob object and getting the response function:"
   ]
  },
  {
   "cell_type": "code",
   "execution_count": 6,
   "id": "40a80531",
   "metadata": {},
   "outputs": [
    {
     "name": "stdout",
     "output_type": "stream",
     "text": [
      "Total number of circuits = 242\n"
     ]
    },
    {
     "name": "stderr",
     "output_type": "stream",
     "text": [
      "Process ForkProcess-1:\n",
      "Process ForkProcess-2:\n",
      "Traceback (most recent call last):\n",
      "Traceback (most recent call last):\n",
      "  File \"/home/juu8242/opt/anaconda3/envs/qudofedi/lib/python3.10/multiprocessing/process.py\", line 314, in _bootstrap\n",
      "    self.run()\n",
      "  File \"/home/juu8242/opt/anaconda3/envs/qudofedi/lib/python3.10/multiprocessing/process.py\", line 314, in _bootstrap\n",
      "    self.run()\n",
      "  File \"/home/juu8242/opt/anaconda3/envs/qudofedi/lib/python3.10/multiprocessing/process.py\", line 108, in run\n",
      "    self._target(*self._args, **self._kwargs)\n",
      "  File \"/home/juu8242/opt/anaconda3/envs/qudofedi/lib/python3.10/multiprocessing/process.py\", line 108, in run\n",
      "    self._target(*self._args, **self._kwargs)\n",
      "  File \"/home/juu8242/opt/anaconda3/envs/qudofedi/lib/python3.10/concurrent/futures/process.py\", line 240, in _process_worker\n",
      "    call_item = call_queue.get(block=True)\n",
      "  File \"/home/juu8242/opt/anaconda3/envs/qudofedi/lib/python3.10/concurrent/futures/process.py\", line 240, in _process_worker\n",
      "    call_item = call_queue.get(block=True)\n",
      "  File \"/home/juu8242/opt/anaconda3/envs/qudofedi/lib/python3.10/multiprocessing/queues.py\", line 122, in get\n",
      "    return _ForkingPickler.loads(res)\n",
      "  File \"symengine_wrapper.pyx\", line 830, in symengine.lib.symengine_wrapper.load_basic\n",
      "  File \"/home/juu8242/opt/anaconda3/envs/qudofedi/lib/python3.10/multiprocessing/queues.py\", line 122, in get\n",
      "    return _ForkingPickler.loads(res)\n",
      "RuntimeError: /home/conda/feedstock_root/build_artifacts/symengine-wheels_1646700907439/_h_env_placehold_placehold_placehold_placehold_placehold_placehold_placehold_placehold_placehold_placehold_placehold_placehold_placehold_placehold_placehold_placehold_placehold_plac/include/symengine/serialize-cereal.h:653: SymEngine::RCP<const SymEngine::Basic> SymEngine::load_basic(Archive&, SymEngine::RCP<const U>&, typename std::enable_if<(!(((std::is_base_of<SymEngine::Relational, T>::value || std::is_base_of<SymEngine::OneArgFunction, T>::value) || std::is_base_of<SymEngine::MultiArgFunction, T>::value) || std::is_base_of<SymEngine::TwoArgBasic<SymEngine::Function>, T>::value)), int>::type*) [with Archive = cereal::PortableBinaryInputArchive; T = SymEngine::ComplexDouble; typename std::enable_if<(!(((std::is_base_of<SymEngine::Relational, T>::value || std::is_base_of<SymEngine::OneArgFunction, T>::value) || std::is_base_of<SymEngine::MultiArgFunction, T>::value) || std::is_base_of<SymEngine::TwoArgBasic<SymEngine::Function>, T>::value)), int>::type = int]Loading of this type is not implemented.\n",
      "  File \"symengine_wrapper.pyx\", line 830, in symengine.lib.symengine_wrapper.load_basic\n",
      "RuntimeError: /home/conda/feedstock_root/build_artifacts/symengine-wheels_1646700907439/_h_env_placehold_placehold_placehold_placehold_placehold_placehold_placehold_placehold_placehold_placehold_placehold_placehold_placehold_placehold_placehold_placehold_placehold_plac/include/symengine/serialize-cereal.h:653: SymEngine::RCP<const SymEngine::Basic> SymEngine::load_basic(Archive&, SymEngine::RCP<const U>&, typename std::enable_if<(!(((std::is_base_of<SymEngine::Relational, T>::value || std::is_base_of<SymEngine::OneArgFunction, T>::value) || std::is_base_of<SymEngine::MultiArgFunction, T>::value) || std::is_base_of<SymEngine::TwoArgBasic<SymEngine::Function>, T>::value)), int>::type*) [with Archive = cereal::PortableBinaryInputArchive; T = SymEngine::ComplexDouble; typename std::enable_if<(!(((std::is_base_of<SymEngine::Relational, T>::value || std::is_base_of<SymEngine::OneArgFunction, T>::value) || std::is_base_of<SymEngine::MultiArgFunction, T>::value) || std::is_base_of<SymEngine::TwoArgBasic<SymEngine::Function>, T>::value)), int>::type = int]Loading of this type is not implemented.\n"
     ]
    },
    {
     "name": "stdout",
     "output_type": "stream",
     "text": [
      "Error during computation:  A process in the process pool was terminated abruptly while the future was running or pending.\n"
     ]
    }
   ],
   "source": [
    "job = Qjob(system, FD)                       # Qjob object\n",
    "\n",
    "response = job.run(backend,\n",
    "                   shots = 4000,\n",
    "                   save_Qjob = True,\n",
    "                   save_name = 'example_gsb_TLS',\n",
    "                   save_checkpoint = True,\n",
    "                  )                          # Run the simulation returning a numpy.ndarray with the results"
   ]
  },
  {
   "cell_type": "markdown",
   "id": "dd77c699",
   "metadata": {},
   "source": [
    "Post-processing the results (rotating frame, exponential damping, zero-padding) to obtain the time oscillation and frequency spectra:"
   ]
  },
  {
   "cell_type": "code",
   "execution_count": 7,
   "id": "713e4f7a",
   "metadata": {},
   "outputs": [
    {
     "ename": "TypeError",
     "evalue": "'NoneType' object is not subscriptable",
     "output_type": "error",
     "traceback": [
      "\u001b[0;31m---------------------------------------------------------------------------\u001b[0m",
      "\u001b[0;31mTypeError\u001b[0m                                 Traceback (most recent call last)",
      "Cell \u001b[0;32mIn[7], line 1\u001b[0m\n\u001b[0;32m----> 1\u001b[0m \u001b[43mPostProcess\u001b[49m\u001b[43m(\u001b[49m\u001b[43mjob\u001b[49m\u001b[43m,\u001b[49m\n\u001b[1;32m      2\u001b[0m \u001b[43m            \u001b[49m\u001b[43mRF_freq\u001b[49m\u001b[43m \u001b[49m\u001b[38;5;241;43m=\u001b[39;49m\u001b[43m \u001b[49m\u001b[38;5;241;43m1.505\u001b[39;49m\u001b[43m,\u001b[49m\n\u001b[1;32m      3\u001b[0m \u001b[43m            \u001b[49m\u001b[43mdamping_rate\u001b[49m\u001b[43m \u001b[49m\u001b[38;5;241;43m=\u001b[39;49m\u001b[43m \u001b[49m\u001b[38;5;241;43m29.54\u001b[39;49m\u001b[43m \u001b[49m\u001b[38;5;241;43m*\u001b[39;49m\u001b[43m \u001b[49m\u001b[38;5;241;43m10\u001b[39;49m\u001b[38;5;241;43m*\u001b[39;49m\u001b[38;5;241;43m*\u001b[39;49m\u001b[43m(\u001b[49m\u001b[38;5;241;43m-\u001b[39;49m\u001b[38;5;241;43m3\u001b[39;49m\u001b[43m)\u001b[49m\u001b[43m,\u001b[49m\n\u001b[1;32m      4\u001b[0m \u001b[43m            \u001b[49m\u001b[43mpad\u001b[49m\u001b[43m \u001b[49m\u001b[38;5;241;43m=\u001b[39;49m\u001b[43m \u001b[49m\u001b[38;5;241;43m3\u001b[39;49m\u001b[43m,\u001b[49m\n\u001b[1;32m      5\u001b[0m \u001b[43m           \u001b[49m\u001b[43m)\u001b[49m                                 \u001b[38;5;66;03m# Post-process and print the results\u001b[39;00m\n",
      "File \u001b[0;32m~/opt/anaconda3/envs/qudofedi/lib/python3.10/site-packages/qudofedi/postprocessing.py:26\u001b[0m, in \u001b[0;36mPostProcess\u001b[0;34m(qjob, RF_freq, damping_rate, T2_index, pad, save_figure, figure_name, **pltsavefig_kws)\u001b[0m\n\u001b[1;32m     23\u001b[0m delay_time \u001b[38;5;241m=\u001b[39m qjob\u001b[38;5;241m.\u001b[39mdelay_time\n\u001b[1;32m     24\u001b[0m FD_type \u001b[38;5;241m=\u001b[39m qjob\u001b[38;5;241m.\u001b[39mFD_type\n\u001b[0;32m---> 26\u001b[0m RF_response_function \u001b[38;5;241m=\u001b[39m \u001b[43mRotatingFrame\u001b[49m\u001b[43m(\u001b[49m\u001b[43mresponse_function\u001b[49m\u001b[43m,\u001b[49m\u001b[43m \u001b[49m\u001b[43mdelay_time\u001b[49m\u001b[43m,\u001b[49m\u001b[43m \u001b[49m\u001b[43mFD_type\u001b[49m\u001b[43m,\u001b[49m\u001b[43m \u001b[49m\u001b[43mRF_freq\u001b[49m\u001b[43m,\u001b[49m\u001b[43m \u001b[49m\u001b[43mdamping_rate\u001b[49m\u001b[43m,\u001b[49m\u001b[43m \u001b[49m\u001b[43mT2_index\u001b[49m\u001b[43m)\u001b[49m\n\u001b[1;32m     28\u001b[0m (omega, freq_spectra) \u001b[38;5;241m=\u001b[39m FourierTransform(RF_response_function, delay_time, FD_type, RF_freq, T2_index, pad)\n\u001b[1;32m     30\u001b[0m PlotTimeSignal(RF_response_function, delay_time, FD_type, save_figure, figure_name, \u001b[38;5;241m*\u001b[39m\u001b[38;5;241m*\u001b[39mpltsavefig_kws)\n",
      "File \u001b[0;32m~/opt/anaconda3/envs/qudofedi/lib/python3.10/site-packages/qudofedi/postprocessing.py:47\u001b[0m, in \u001b[0;36mRotatingFrame\u001b[0;34m(response_function, delay_time, FD_type, RF_freq, damping_rate, T2_index)\u001b[0m\n\u001b[1;32m     45\u001b[0m     \u001b[38;5;28;01mreturn\u001b[39;00m __LinearRotatingFrame(response_function, delay_time, RF_freq, damping_rate)\n\u001b[1;32m     46\u001b[0m \u001b[38;5;28;01melif\u001b[39;00m FD_type \u001b[38;5;129;01min\u001b[39;00m thirdorder_name_list:\n\u001b[0;32m---> 47\u001b[0m     \u001b[38;5;28;01mreturn\u001b[39;00m \u001b[43m__2DRotatingFrame\u001b[49m\u001b[43m(\u001b[49m\u001b[43mresponse_function\u001b[49m\u001b[43m,\u001b[49m\u001b[43m \u001b[49m\u001b[43mdelay_time\u001b[49m\u001b[43m,\u001b[49m\u001b[43m \u001b[49m\u001b[43mRF_freq\u001b[49m\u001b[43m,\u001b[49m\u001b[43m \u001b[49m\u001b[43mdamping_rate\u001b[49m\u001b[43m,\u001b[49m\u001b[43m \u001b[49m\u001b[43mT2_index\u001b[49m\u001b[43m)\u001b[49m\n",
      "File \u001b[0;32m~/opt/anaconda3/envs/qudofedi/lib/python3.10/site-packages/qudofedi/postprocessing.py:76\u001b[0m, in \u001b[0;36m__2DRotatingFrame\u001b[0;34m(response_function, delay_time, RF_freq, damping_rate, T2_index)\u001b[0m\n\u001b[1;32m     74\u001b[0m     \u001b[38;5;28;01mraise\u001b[39;00m \u001b[38;5;167;01mValueError\u001b[39;00m(\u001b[38;5;124m'\u001b[39m\u001b[38;5;124mT2_index exceed length of T2\u001b[39m\u001b[38;5;124m'\u001b[39m)\n\u001b[1;32m     75\u001b[0m T1, T3 \u001b[38;5;241m=\u001b[39m np\u001b[38;5;241m.\u001b[39mmeshgrid(T1, T3, indexing\u001b[38;5;241m=\u001b[39m\u001b[38;5;124m'\u001b[39m\u001b[38;5;124mij\u001b[39m\u001b[38;5;124m'\u001b[39m) \n\u001b[0;32m---> 76\u001b[0m rf_response_function \u001b[38;5;241m=\u001b[39m \u001b[43mresponse_function\u001b[49m\u001b[43m[\u001b[49m\u001b[43m:\u001b[49m\u001b[43m,\u001b[49m\u001b[43mT2_index\u001b[49m\u001b[43m,\u001b[49m\u001b[43m:\u001b[49m\u001b[43m]\u001b[49m \u001b[38;5;241m*\u001b[39m np\u001b[38;5;241m.\u001b[39mexp(\u001b[38;5;241m-\u001b[39m\u001b[38;5;241m1.\u001b[39mj \u001b[38;5;241m*\u001b[39m RF_freq \u001b[38;5;241m*\u001b[39m (T1\u001b[38;5;241m-\u001b[39mT3)) \u001b[38;5;241m*\u001b[39m np\u001b[38;5;241m.\u001b[39mexp(\u001b[38;5;241m-\u001b[39m damping_rate \u001b[38;5;241m*\u001b[39m (T1\u001b[38;5;241m+\u001b[39mT3))\n\u001b[1;32m     77\u001b[0m \u001b[38;5;28;01mreturn\u001b[39;00m rf_response_function\n",
      "\u001b[0;31mTypeError\u001b[0m: 'NoneType' object is not subscriptable"
     ]
    }
   ],
   "source": [
    "PostProcess(job,\n",
    "            RF_freq = 1.505,\n",
    "            damping_rate = 29.54 * 10**(-3),\n",
    "            pad = 3,\n",
    "           )                                 # Post-process and print the results"
   ]
  },
  {
   "cell_type": "markdown",
   "id": "2492cce8",
   "metadata": {},
   "source": [
    "## Adding readout-error mitigation"
   ]
  },
  {
   "cell_type": "code",
   "execution_count": null,
   "id": "dbec53b4",
   "metadata": {},
   "outputs": [],
   "source": [
    "from qiskit.utils.mitigation import CompleteMeasFitter\n",
    "from qiskit_ibm_provider import IBMProvider"
   ]
  },
  {
   "cell_type": "markdown",
   "id": "abe1ed03",
   "metadata": {},
   "source": [
    "Select a real quantum processor:"
   ]
  },
  {
   "cell_type": "code",
   "execution_count": null,
   "id": "67c2cbc3",
   "metadata": {},
   "outputs": [],
   "source": [
    "provider = IBMProvider(instance='ibm-q/open/main')\n",
    "real_backend = provider.get_backend('ibmq_manila')"
   ]
  },
  {
   "cell_type": "markdown",
   "id": "c47fdd34",
   "metadata": {},
   "source": [
    "Create the noise model (not necessary if using the real_backend as the backend of computation):"
   ]
  },
  {
   "cell_type": "code",
   "execution_count": null,
   "id": "6d6a1d15",
   "metadata": {},
   "outputs": [],
   "source": [
    "from qiskit_aer.noise.noise_model import NoiseModel\n",
    "\n",
    "noise_model = NoiseModel().from_backend(real_backend)"
   ]
  },
  {
   "cell_type": "markdown",
   "id": "b585d7a8",
   "metadata": {},
   "source": [
    "Create the Qjob object and getting the response function:"
   ]
  },
  {
   "cell_type": "code",
   "execution_count": null,
   "id": "c6370731",
   "metadata": {},
   "outputs": [],
   "source": [
    "job = Qjob(system, FD)                       # Qjob object\n",
    "\n",
    "response = job.run(backend,\n",
    "                   shots = 4000,\n",
    "                   save_Qjob = True,\n",
    "                   save_name = 'example_gsb_TLS_mitigation',\n",
    "                   save_checkpoint = True,\n",
    "                   noise_model = noise_model,\n",
    "                   coupling_map = real_backend.configuration().coupling_map,\n",
    "                   initial_layout = [1, 2],    # An initial_layout specification is necessary to not get errors in Qiskit\n",
    "                   measurement_error_mitigation_cls=CompleteMeasFitter,\n",
    "                   measurement_error_mitigation_shots = 4000,\n",
    "                  )                          # Run the simulation returning a numpy.ndarray with the results"
   ]
  },
  {
   "cell_type": "code",
   "execution_count": null,
   "id": "9b581ec1",
   "metadata": {},
   "outputs": [],
   "source": [
    "# For readout-error mitigation on a real device:\n",
    "#\n",
    "# job = Qjob(system, FD)                       # Qjob object\n",
    "#\n",
    "# response = job.run(backend,\n",
    "#                    shots = 4000,\n",
    "#                    save_Qjob = True,\n",
    "#                    save_name = 'example_gsb_TLS_mitigation',\n",
    "#                    save_checkpoint = True,\n",
    "#                    initial_layout = [1, 2],    # An initial_layout specification is necessary to not get errors in Qiskit\n",
    "#                    measurement_error_mitigation_cls=CompleteMeasFitter,\n",
    "#                    measurement_error_mitigation_shots = 4000,\n",
    "#                   )                          # Run the simulation returning a numpy.ndarray with the results"
   ]
  },
  {
   "cell_type": "markdown",
   "id": "3b954374",
   "metadata": {},
   "source": [
    "Post-processing the results (rotating frame, exponential damping, zero-padding) to obtain the time oscillation and frequency spectra:"
   ]
  },
  {
   "cell_type": "code",
   "execution_count": null,
   "id": "79492f8f",
   "metadata": {},
   "outputs": [],
   "source": [
    "PostProcess(job,\n",
    "            RF_freq = 1.505,\n",
    "            damping_rate = 29.54 * 10**(-3),\n",
    "            pad = 3,\n",
    "           )                                 # Post-process and print the results"
   ]
  }
 ],
 "metadata": {
  "kernelspec": {
   "display_name": "Python 3 (ipykernel)",
   "language": "python",
   "name": "python3"
  },
  "language_info": {
   "codemirror_mode": {
    "name": "ipython",
    "version": 3
   },
   "file_extension": ".py",
   "mimetype": "text/x-python",
   "name": "python",
   "nbconvert_exporter": "python",
   "pygments_lexer": "ipython3",
   "version": "3.10.15"
  }
 },
 "nbformat": 4,
 "nbformat_minor": 5
}

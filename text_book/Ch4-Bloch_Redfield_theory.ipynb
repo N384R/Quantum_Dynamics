{
 "cells": [
  {
   "cell_type": "markdown",
   "metadata": {},
   "source": [
    "**4. Bloch-Redfield theory**\n",
    "\n",
    "The Bloch-Redfield equation is useful when the system interacts weakly with its environment, and we lack a model for decoherence and relaxation, but we know the nature of the system-environment interactions that drive such processes."
   ]
  },
  {
   "cell_type": "markdown",
   "metadata": {},
   "source": [
    "**4.1. Bloch-Redfield master equation**\n",
    "\n",
    "Let us consider a system $\\text{S}$, with dimension $\\text{dim}_\\text{S}$, that interacts with its environment $\\text{E}$ according to the following general Hamiltonian\n",
    "\n",
    "$$\\begin{align*} H &= H_\\text{S} + H_\\text{E} + H_\\text{int} \\\\ &= H_\\text{S} + H_\\text{E} + \\sum_\\alpha A_\\alpha \\otimes B_\\alpha  \\end{align*}$$\n",
    "\n",
    "where the coupling operators $A_\\alpha (B_\\alpha)$ are Hermitian and act on the system (environment) such that $H_\\text{int}$ is a samll perturbation of the unperturbed Hamiltonian $H_0 = H_\\text{S} + H_\\text{E}$.\n",
    "\n",
    "Then, under the specific conditions will discuss after the following sections, the dynamics of the system's density operator $\\rho$ in the eigenbasis ${|\\omega_a\\rangle}$ of $H_\\text{S}$ is prescribed by the Bloch-Redfield master equation,\n",
    "\n",
    "$$\\dot{\\rho}_{ab}(t) = -i\\omega_{ab}\\rho_{ab}(t) + \\sum_{c, d} R_{abcd}\\rho_{cd}(t) $$\n",
    "\n",
    "where $\\omega_{ab} = \\omega_{a} - \\omega_{b}$ are the frequencies associated with transitions $|\\omega_b\\rangle \\rightarrow |\\omega_a\\rangle$. The Bloch-Redfield tensor $R_{abcd}$ is prescribed by the following expression, where $\\delta_{ij}$ is the Kronecker delta.\n",
    "\n",
    "$$\\begin{align*} R_{abcd} = -\\frac{1}{2\\hbar^2}\\sum_{\\alpha, \\beta} \\biggl\\{&\\delta_{bd} \\sum_{n=1}^{\\text{dim}_\\text{S}} A^{(\\alpha)}_{a n} A^{(\\beta)}_{n c} S_{\\alpha \\beta}(\\omega_{c n}) - A^{(\\alpha)}_{a c} A^{(\\beta)}_{db} S_{\\alpha \\beta}(\\omega_{c a}) + \\\\ &\\delta_{ac} \\sum_{n=1}^{\\text{dim}_\\text{S}} A^{(\\alpha)}_{d n} A^{(\\beta)}_{n b} S_{\\alpha \\beta}(\\omega_{d n}) - A^{(\\alpha)}_{a c} A^{(\\beta)}_{db} S_{\\alpha \\beta}(\\omega_{d b}) \\biggl\\}\\end{align*}$$\n",
    "\n",
    "In this equation, $A^{(\\alpha)}_{ab} = \\langle\\omega_a|A_\\alpha|\\omega_b\\rangle$ are the elements of the coupling operators $A_\\alpha$ in the eigenbasis of the system Hamiltonian, while $S_{\\alpha \\beta}(\\omega)$ corresponds to the noise-power spectrum of the environment coupling operators,\n",
    "\n",
    "$$ S_{\\alpha \\beta}(\\omega) = \\int_{-\\infty}^\\infty d\\tau e^{i\\omega t}\\text{Tr}\\Big[B_\\alpha (\\tau) B_\\beta(0) \\rho_\\text{E}\\Big] $$\n",
    "\n",
    "taken assuming $\\rho_\\text{E}$ to be some steady state of the environment."
   ]
  },
  {
   "cell_type": "markdown",
   "metadata": {},
   "source": [
    "**4.1.1 Thermal relaxation and detailed balance condition**\n",
    "\n",
    "When using BR theory it is common to consider environments in thermal equilibrium at inverse temperature $\\beta = 1/k_\\text{B}T$. For example, the environment may be assumed to be in a Bose-Einstein distribution,\n",
    "\n",
    "$$ G_\\beta(H_\\text{E}) = \\frac{\\exp(-\\beta H_\\text{E})}{\\mathcal{Z}} $$\n",
    "\n",
    "with $\\mathcal{Z} = \\text{Tr}[\\exp(-\\beta H_\\text{E})]$, and to be invariant under future evolutions (Gibbs state). An out-of-equilibrium density operator that evolves under the dynamics prescribed by the BR equation with $\\rho_\\text{E} = G_\\beta(H_\\text{E})$ will relax towards thermal equilibrium (exchanging energy with the environment). Indeed, the steady state is itself a Gibbs state $G_\\beta(H_\\text{S})$ at thermal equilibrium with inverse temperature $\\beta$.\n",
    "\n",
    "The condition for this to occur is known as *detaied balance*, and can be expressed in terms of the ratio between the rates $k_{a\\rightarrow b}$ associated with transtions $|\\omega_b\\rangle \\rightarrow |\\omega_a\\rangle$ separated by energy $\\omega_{ba} = \\omega_b - \\omega_a$.\n",
    "\n",
    "$$\\frac{k_{a\\rightarrow b}}{k_{b\\rightarrow a}} = \\exp(-\\beta\\omega_{ba})$$\n",
    "\n",
    "The detailed balance condition implies that the equilibrium populations of the eigenstates of the system follow the Boltzmann distribution $p_a \\propto \\exp(-\\beta\\omega_a$. In terms of noise-power spectra, the detailed balance condition becomes $S_{\\alpha \\beta}(-\\omega)/S_{\\alpha \\beta}(\\omega) = \\exp(-\\beta\\omega)$."
   ]
  },
  {
   "cell_type": "markdown",
   "metadata": {},
   "source": [
    "**4.1.2. Example: Spin-boson**\n",
    "\n",
    "Before discussing the approximation required to derive the BR master equation, let us implement BR theory for the simple and ubiquitous spin-boson model. We consider a two-level system coupled with a large ensemble of *uncorrelated* harmonic oscillators at thermal equilibrium (bosonic bath)\n",
    "\n",
    "$$ H = \\frac{\\epsilon_0}{2}\\sigma_z + \\frac{\\Delta}{2}\\sigma_z + \\sum_k \\hbar\\omega_k b_k^\\dagger b_k + \\sigma_z \\otimes \\sum_k g_k (b_k^\\dagger + b_k)$$\n",
    "\n",
    "where $g_k$ is the strength of the coupling betwen $\\sigma_z$ and some mode $\\omega_k$.\n",
    "\n",
    "First, we calculate the correlation functions $C_{kk'}(t)$ for the bath operators $B_k = g_k (b_k^\\dagger + b_k)$\n",
    "\n",
    "$$ \\begin{align*} C_{kk'}(t) &= \\delta_{kk'}\\text{Tr}[B_k(t)B_{k'}(0)G_\\beta(H_\\text{E})] \\\\ &= \\frac{g_k^2}{1-\\exp(-\\beta\\omega_k)} \\Big(e^{-i\\omega_kt} + e^{i\\omega_kt-\\beta\\omega_k} \\Big) \\end{align*}$$\n",
    "\n",
    "where we used the fact that the modes are uncorrelated $(\\delta_{kk'})$ and assumed the bath to be in thermal equilibrium $\\rho_\\text{E} = G_\\beta(H_\\text{E})$ at inverse temperature $\\beta$.\n",
    "\n",
    "To treat the contribution of a large ensemble of modes, we replace sum over the coupling strength $g_k$ with an interal over some spectral density $J(\\omega)$ that well approximates the bath:\n",
    "\n",
    "$$ \\sum_k g_k^2 \\rightarrow \\int_0^\\infty d\\omega J(\\omega) $$\n",
    "\n",
    "A common choice is the Ohmic spectral density $J(\\omega) = \\eta\\omega e^{-\\omega/\\omega_c}$, which is characterised by a cut-off frequency $\\omega_c$ and a dimensionless parameter $\\eta$, from which we obtain the noise-power,\n",
    "\n",
    "$$ \\begin{align*} S(\\omega) &= \\int_{-\\infty}^\\infty dt e^{i\\omega t} \\sum_k C_{kk}(t) \\\\ &\\approx \\int_{-\\infty}^\\infty dt e^{i\\omega t} \\int_{0}^\\infty d\\omega' J(\\omega') \\frac{(e^{-i\\omega_kt} + e^{i\\omega_kt-\\beta\\omega_k})}{1-\\exp(-\\beta\\omega_k)} \\\\ &= \\frac{2\\pi\\eta\\omega\\exp(-|\\omega|/\\omega_c)}{1-\\exp(-\\beta\\omega_k)} \\end{align*}$$\n",
    "\n",
    "We now possess all the elements required to compose the BR tensor. Note that we only have one system coupling operator $A = \\sigma_z$, associated with a single noise-power spectrum $S(\\omega)$. The following is a python implementation of the Bloch-Redfield tensor, which can then be used to propagate the state of the system using one of the methods discussed in Ch. 3. Note that to simplify the solution of $\\boldsymbol{\\dot{\\rho}} = \\mathcal{L}\\boldsymbol{\\rho}$, the unitary part of the generator has been absorbed into the tensor $R$,\n",
    "\n",
    "$$ R_{abcd} \\rightarrow R_{abcd}' = -i\\omega_{ac}\\delta_{ac}\\delta_{bd} + R_{abcd} $$\n",
    "\n",
    "and that system coupling operators are considered to be mutually uncorrelated, $S_{\\alpha\\beta} = \\delta_{\\alpha\\beta} S_{\\alpha\\alpha} $."
   ]
  },
  {
   "cell_type": "code",
   "execution_count": null,
   "metadata": {},
   "outputs": [
    {
     "data": {
      "text/plain": [
       "array([[-0.01329101+0.j       ,  0.        +0.j       ,\n",
       "         0.        +0.j       ,  0.10217591+0.j       ],\n",
       "       [ 0.        +0.j       , -6.0992578 +1.0198039j,\n",
       "         0.        +0.j       ,  0.        +0.j       ],\n",
       "       [ 0.        +0.j       ,  0.        +0.j       ,\n",
       "        -6.0992578 -1.0198039j,  0.        +0.j       ],\n",
       "       [ 0.01329101+0.j       ,  0.        +0.j       ,\n",
       "         0.        +0.j       , -0.10217591+0.j       ]])"
      ]
     },
     "execution_count": 5,
     "metadata": {},
     "output_type": "execute_result"
    }
   ],
   "source": [
    "import numpy as np\n",
    "\n",
    "\n",
    "def BR_tensor(H, a_ops, secular=True, secular_cut_off=0.01):\n",
    "    dim = len(H)  # dimension\n",
    "    evals, ekets = np.linalg.eigh(H)  # HS's basis\n",
    "\n",
    "    # sort basis\n",
    "    _zipped = list(zip(evals, range(len(evals))))\n",
    "    _zipped.sort()\n",
    "    evals, perm = list(zip(*_zipped))\n",
    "    ekets = np.array([ekets[:, k] for k in perm])\n",
    "    evals = np.array(evals)\n",
    "\n",
    "    # coupling operators in H basis\n",
    "    a_ops_S = [[ekets.conj() @ a @ ekets.T, nps] for a, nps in a_ops]\n",
    "\n",
    "    # Bohr frequencies (w_ab)\n",
    "    indices = [(a, b) for a in range(dim) for b in range(dim)]\n",
    "    BohrF = np.sort(np.array([evals[a] - evals[b] for a, b in indices]))\n",
    "\n",
    "    # construct empty R\n",
    "    R = np.zeros((dim**2, dim**2), dtype=complex)\n",
    "    for j, (a, b) in enumerate(indices):\n",
    "        for k, (c, d) in enumerate(indices):\n",
    "            # unitary part\n",
    "            R[j, k] += -1j * (a == c) * (b == d) * (evals[a] - evals[b])\n",
    "            for a_op, nps in a_ops_S:  # loop over uncorrelated a_ops\n",
    "                # largest rate for secular approximation\n",
    "                gmax = np.max([NPS(f) for f in BohrF])\n",
    "                A = a_op  # coupling operator\n",
    "\n",
    "                # secular approximation test\n",
    "                if secular and abs(evals[a] - evals[b] - evals[c] + evals[d]) > secular_cut_off * gmax:\n",
    "                    continue\n",
    "\n",
    "                # non-unitary part\n",
    "                R[j, k] += - 1/2 * ((b == d) * np.sum([A[a, n] * A[n, c] * nps(evals[c] - evals[n])\n",
    "                                                      for n in range(dim)])\n",
    "                                    - A[a, c] * A[d, b] * nps(evals[c] - evals[a]) +\n",
    "                                    (a == c) * np.sum([A[d, n] * A[n, b] * nps(evals[d] - evals[n])\n",
    "                                                      for n in range(dim)])\n",
    "                                    - A[a, c] * A[d, b] * nps(evals[d] - evals[b]))\n",
    "    return R\n",
    "\n",
    "\n",
    "e0, delta = 1, 0.2  # spin parameters\n",
    "sz, sx = np.array([[1, 0], [0, -1]]), np.array([[0, 1], [1, 0]])\n",
    "HS = e0/2 * sz + delta/2 * sx  # spin Hamiltonian\n",
    "\n",
    "# Nosie Power Spectrum\n",
    "\n",
    "\n",
    "def S(w, wc, eta, beta, thresh=1e-10):\n",
    "    return (2 * np.pi * eta * w * np.exp(-abs(w)/wc) /\n",
    "            (1 - np.exp(-w * beta) + thresh) * (w > thresh or w <= -thresh) +\n",
    "            2 * np.pi * eta * beta**-1 * (-thresh < w < thresh))\n",
    "\n",
    "\n",
    "# noise power spectrum\n",
    "def NPS(w): return S(w, wc=1, eta=1, beta=2)\n",
    "\n",
    "\n",
    "# coupling operator and associated NPS\n",
    "a_ops = [[sz, NPS]]\n",
    "\n",
    "BR_tensor(HS, a_ops)"
   ]
  },
  {
   "cell_type": "markdown",
   "metadata": {},
   "source": [
    "**4.2. Approximations for Bloch-Redfield master equation**\n",
    "\n",
    "While the Lindblad master equation is guaranteed to be completely positive and trace-preserving, care must be taken when using BR theory. First, the following approximations have to be respected to obtain the BR equation from the reducedstate von Neumann equation:\n",
    "\n",
    "\n",
    "1. **Weak coupling approximation:** The interaction $H_\\text{int}$ is a small perturbation of the unperturbed Hamiltonian $H_0 = H_\\text{S} + H_\\text{E}$.\n",
    "\n",
    "2. **Born approximation:** The system-environment density operator is factorized at all times, $\\rho_\\text{int}(t) = \\rho_\\text{S}(t) \\otimes \\rho_\\text{E}$ with $\\rho_\\text{E}$ being some steady state of the environment.\n",
    "\n",
    "3. **Markov approximation:** The bath correlation functions $g_{\\alpha\\beta}(\\tau) = \\text{Tr}[B_\\alpha(\\tau)B_\\beta(0)\\rho_\\text{E}]$ have a short correlation time scale $\\tau_\\text{E}, g_{\\alpha\\beta}(\\tau) \\approx 0$ for $\\tau \\gg \\tau_\\text{E}$.\n",
    "\n",
    "4. **Rotating wave approximation:** All the contributions from the rapidly oscillating terms, i.e., with characteristic frequency $|\\omega_{ab} - \\omega_{cd} \\geq \\tau_\\text{E}^{-1}$, are neglected as they approximately average to zero.\n",
    "\n",
    "Second, the BR master equation does not, in principle, guarantee positivity of the density operator. That is, when propagating the system in time $\\rho(t) = \\Lambda_t[\\rho_0]$, the populations of $\\rho$ may become negative for some time $t > 0$. For this reason, when propagating a density operator numerically, it is advisable to check its positivity. The following python script can be used to test positivity, hermitianity and normalisation condition of a density operator. The function 'is_state(rho)' returns $1$ if a rho is a density operator, and a value $s < 1$ if rho deviates from the conditions of positivity, hermitianity and normalisation, where $1 − s$ is a measure of such deviation."
   ]
  },
  {
   "cell_type": "code",
   "execution_count": null,
   "metadata": {},
   "outputs": [
    {
     "name": "stdout",
     "output_type": "stream",
     "text": [
      "rho1 is a state? : 1.0\n",
      "rho2 is a state? : 0.9899501243291272\n"
     ]
    }
   ],
   "source": [
    "import numpy as np\n",
    "\n",
    "\n",
    "def is_state(rho):\n",
    "    evals = np.linalg.eig(rho)[0]  # eigenvalues\n",
    "    non_unit = 1 - np.trace(rho)  # deviation from unit trace\n",
    "    non_herm = np.linalg.norm(np.array([rho[i, j] - np.conj(rho[j, i])\n",
    "                                        for i in range(len(rho))\n",
    "                                        for j in range(i+1, len(rho))])\n",
    "                              )  # deviation from Hermitianity\n",
    "    non_pos = np.sum(np.array([(abs(val) - val)/2 for val in evals])\n",
    "                     )  # deviation from positivity\n",
    "\n",
    "    # return 1 if rho is a state, less than 1 otherwise\n",
    "    return 1 - np.linalg.norm(np.array([non_unit, non_herm, non_pos]))\n",
    "\n",
    "\n",
    "# a state\n",
    "rho_1 = np.array([[0.2, 0, 0], [0, 0.3, 0], [0, 0, 0.5]])\n",
    "print(f'rho1 is a state? : {is_state(rho_1)}')\n",
    "\n",
    "# a state with some error\n",
    "rho_2 = rho_1 + np.array([[-1e-4, 1e-6, 0], [0, 0, 1e-2j], [1e-3j, 0, 1e-4]])\n",
    "print(f'rho2 is a state? : {is_state(rho_2)}')"
   ]
  },
  {
   "cell_type": "markdown",
   "metadata": {},
   "source": [
    "**4.3. Lindblad form of the Bloch-Redfield master equation**\n",
    "\n"
   ]
  },
  {
   "cell_type": "markdown",
   "metadata": {},
   "source": [
    "Under certain conditions, it is posible to write the BR master equation in the Lindblad form:\n",
    "\n",
    "$$\\dot\\rho(t) = -\\frac{i}{\\hbar} [H_\\text{S},\\rho(t)] + \\sum_{\\alpha\\beta}\\sum_\\omega S_{\\alpha\\beta}(\\omega)\\left(A-\\alpha(\\omega)\\rho(t)A^\\dagger_\\beta(\\omega)-\\frac{1}{2}\\big\\{A^\\dagger_\\alpha(\\omega)A_\\beta(\\omega),\\rho(t)\\big\\}\\right)$$\n",
    "\n",
    "where $A_\\alpha(\\omega) = \\sum_{\\omega=\\omega_b-\\omega_a}A_{ab}^{(\\alpha)}|\\omega_a\\rangle\\langle\\omega_b|$ are the coupling operators in the frequency domain. "
   ]
  },
  {
   "cell_type": "markdown",
   "metadata": {},
   "source": [
    "**4.5. Pauli master equation**"
   ]
  },
  {
   "cell_type": "markdown",
   "metadata": {},
   "source": [
    "When the system's Hamiltonian $H_\\text{S}$ is non-degenerate, the equations of motion for the populations $p_a(t)$ of the eigenstates $|\\omega_a\\rangle$ are closed and decoupled from the equations of motions for the coherences. The result is a system of linear ordinary differential equations to the population, known as the Pauli master equation (PME):\n",
    "\n",
    "$$\\dot p_a(t) = \\sum_b [W_{ab}p_b(t) - W_{ba}p_a(t)]$$\n",
    "\n",
    "where the matrix elements $W_{ab} = \\sum_{\\alpha\\beta}A^{(\\alpha)}_{ba}A^{(\\beta)}_{ab}S_{\\alpha\\beta}(\\omega_{ba})$ represent the transition rates between eigenstates a and b."
   ]
  }
 ],
 "metadata": {
  "kernelspec": {
   "display_name": "base",
   "language": "python",
   "name": "python3"
  },
  "language_info": {
   "codemirror_mode": {
    "name": "ipython",
    "version": 3
   },
   "file_extension": ".py",
   "mimetype": "text/x-python",
   "name": "python",
   "nbconvert_exporter": "python",
   "pygments_lexer": "ipython3",
   "version": "3.11.7"
  }
 },
 "nbformat": 4,
 "nbformat_minor": 2
}

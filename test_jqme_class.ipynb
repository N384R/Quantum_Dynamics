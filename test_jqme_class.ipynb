{
 "cells": [
  {
   "cell_type": "markdown",
   "metadata": {},
   "source": [
    "**추상 클래스**"
   ]
  },
  {
   "cell_type": "code",
   "execution_count": null,
   "metadata": {},
   "outputs": [],
   "source": [
    "from abc import ABC, abstractmethod\n",
    "import qutip\n",
    "import qiskit\n",
    "\n",
    "# Base System class\n",
    "\n",
    "\n",
    "class System(ABC):\n",
    "    def __init__(self, energies):\n",
    "        self.energies = energies\n",
    "\n",
    "    @abstractmethod\n",
    "    def hamiltonian(self):\n",
    "        pass\n",
    "\n",
    "# Frenkel Exciton system\n",
    "\n",
    "\n",
    "class FrenkelExciton(System):\n",
    "    def __init__(self, energies):\n",
    "        super().__init__(energies)\n",
    "\n",
    "    def hamiltonian(self):\n",
    "        # Define the Frenkel Exciton Hamiltonian here\n",
    "        pass\n",
    "\n",
    "# Base Environment class\n",
    "\n",
    "\n",
    "class Environment(ABC):\n",
    "    def __init__(self, frequencies):\n",
    "        self.frequencies = frequencies\n",
    "\n",
    "    @abstractmethod\n",
    "    def interaction(self):\n",
    "        pass\n",
    "\n",
    "# PseudoMode environment\n",
    "\n",
    "\n",
    "class PseudoMode(Environment):\n",
    "    def __init__(self, frequencies):\n",
    "        super().__init__(frequencies)\n",
    "\n",
    "    def interaction(self):\n",
    "        # Define the interaction with PseudoMode here\n",
    "        pass\n",
    "\n",
    "# EvolObj (consider renaming to OpenSystemDynamics or EvolutionSystem)\n",
    "\n",
    "\n",
    "class EvolObj:\n",
    "    def __init__(self, system, environment, damping_rate):\n",
    "        self.system = system\n",
    "        self.environment = environment\n",
    "        self.damping_rate = damping_rate\n",
    "\n",
    "    def dynamics(self, time):\n",
    "        # Combine system and environment to set up the dynamics\n",
    "        pass\n",
    "\n",
    "# Backend class to run classical or quantum simulation\n",
    "\n",
    "\n",
    "class Backend:\n",
    "    def __init__(self, method='classical'):\n",
    "        self.method = method\n",
    "\n",
    "    def run(self, obj, time):\n",
    "        if self.method == 'classical':\n",
    "            return self.run_classical(obj, time)\n",
    "        elif self.method == 'quantum':\n",
    "            return self.run_quantum(obj, time)\n",
    "\n",
    "    def run_classical(self, obj, time):\n",
    "        # Use QuTiP to simulate the dynamics\n",
    "        # obj.dynamics(time) can be used to set up the system\n",
    "        pass\n",
    "\n",
    "    def run_quantum(self, obj, time):\n",
    "        # Use Qiskit to simulate the dynamics\n",
    "        pass\n",
    "\n",
    "\n",
    "# Usage\n",
    "sys = FrenkelExciton(energies=[...])\n",
    "env = PseudoMode(frequencies=[...])\n",
    "\n",
    "obj = EvolObj(system=sys, environment=env, damping_rate=0.1)\n",
    "backend = Backend(method='classical')\n",
    "results = backend.run(obj, time=100)"
   ]
  },
  {
   "cell_type": "code",
   "execution_count": 1,
   "metadata": {},
   "outputs": [],
   "source": [
    "from jqme.system import FrenkelExciton\n",
    "from scipy.linalg import toeplitz\n",
    "\n",
    "# Define the energies of the system\n",
    "energies = [1, 2]\n",
    "J = toeplitz([0, 1])\n",
    "\n",
    "# Create the FrenkelExciton object\n",
    "frenkel_exciton = FrenkelExciton(energies, J)"
   ]
  },
  {
   "cell_type": "code",
   "execution_count": 2,
   "metadata": {},
   "outputs": [
    {
     "data": {
      "text/latex": [
       "Quantum object: dims=[[2, 2], [2, 2]], shape=(4, 4), type='oper', dtype=CSR, isherm=True$$\\left(\\begin{array}{cc}-1.500 & 0 & 0 & 0\\\\0 & -0.500 & 1 & 0\\\\0 & 1 & 0.500 & 0\\\\0 & 0 & 0 & 1.500\\end{array}\\right)$$"
      ],
      "text/plain": [
       "Quantum object: dims=[[2, 2], [2, 2]], shape=(4, 4), type='oper', dtype=CSR, isherm=True\n",
       "Qobj data =\n",
       "[[-1.5  0.   0.   0. ]\n",
       " [ 0.  -0.5  1.   0. ]\n",
       " [ 0.   1.   0.5  0. ]\n",
       " [ 0.   0.   0.   1.5]]"
      ]
     },
     "execution_count": 2,
     "metadata": {},
     "output_type": "execute_result"
    }
   ],
   "source": [
    "frenkel_exciton.hamiltonian()"
   ]
  },
  {
   "cell_type": "code",
   "execution_count": 3,
   "metadata": {},
   "outputs": [
    {
     "name": "stdout",
     "output_type": "stream",
     "text": [
      "2\n"
     ]
    }
   ],
   "source": [
    "print(frenkel_exciton.system_size)"
   ]
  },
  {
   "cell_type": "code",
   "execution_count": 4,
   "metadata": {},
   "outputs": [
    {
     "data": {
      "text/latex": [
       "Quantum object: dims=[[2, 2], [1, 1]], shape=(4, 1), type='ket', dtype=Dense$$\\left(\\begin{array}{cc}0\\\\1\\\\0\\\\0\\end{array}\\right)$$"
      ],
      "text/plain": [
       "Quantum object: dims=[[2, 2], [1, 1]], shape=(4, 1), type='ket', dtype=Dense\n",
       "Qobj data =\n",
       "[[0.]\n",
       " [1.]\n",
       " [0.]\n",
       " [0.]]"
      ]
     },
     "execution_count": 4,
     "metadata": {},
     "output_type": "execute_result"
    }
   ],
   "source": [
    "frenkel_exciton.set_state(state_type='delocalized excitation',\n",
    "                          state=[1, 0])\n",
    "\n",
    "frenkel_exciton.get_e_state()"
   ]
  },
  {
   "cell_type": "code",
   "execution_count": 6,
   "metadata": {},
   "outputs": [
    {
     "name": "stdout",
     "output_type": "stream",
     "text": [
      "[(1+0j), 0j]\n"
     ]
    }
   ],
   "source": [
    "print(frenkel_exciton.state)"
   ]
  },
  {
   "cell_type": "code",
   "execution_count": 10,
   "metadata": {},
   "outputs": [
    {
     "data": {
      "text/latex": [
       "Quantum object: dims=[[2], [2]], shape=(2, 2), type='oper', dtype=Dia, isherm=True$$\\left(\\begin{array}{cc}0 & 1\\\\1 & 0\\end{array}\\right)$$"
      ],
      "text/plain": [
       "Quantum object: dims=[[2], [2]], shape=(2, 2), type='oper', dtype=Dia, isherm=True\n",
       "Qobj data =\n",
       "[[0. 1.]\n",
       " [1. 0.]]"
      ]
     },
     "execution_count": 10,
     "metadata": {},
     "output_type": "execute_result"
    }
   ],
   "source": [
    "from qutip import destroy\n",
    "\n",
    "a = destroy(2)\n",
    "a_dag = a.dag()\n",
    "\n",
    "test = a + a_dag\n",
    "\n",
    "test"
   ]
  }
 ],
 "metadata": {
  "kernelspec": {
   "display_name": "base",
   "language": "python",
   "name": "python3"
  },
  "language_info": {
   "codemirror_mode": {
    "name": "ipython",
    "version": 3
   },
   "file_extension": ".py",
   "mimetype": "text/x-python",
   "name": "python",
   "nbconvert_exporter": "python",
   "pygments_lexer": "ipython3",
   "version": "3.11.7"
  }
 },
 "nbformat": 4,
 "nbformat_minor": 2
}

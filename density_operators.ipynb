{
 "cells": [
  {
   "cell_type": "markdown",
   "metadata": {},
   "source": [
    "**2. Density Operators**"
   ]
  },
  {
   "cell_type": "markdown",
   "metadata": {},
   "source": [
    "**2.1. Pure states**\n",
    "\n",
    "Coherent superposition, or pure states:\n",
    "\n",
    "$$|\\psi\\rangle = c_1 |\\phi_1\\rangle + c_2|\\phi_2\\rangle + ... + c_d|\\phi_d\\rangle = \\sum_{j=1}^{d}{c_j|\\phi_j}\\rangle$$\n",
    "\n",
    "Expectation values:\n",
    "\n",
    "$$\\langle A \\rangle = \\langle\\psi|A|\\psi\\rangle$$"
   ]
  },
  {
   "cell_type": "code",
   "execution_count": 23,
   "metadata": {},
   "outputs": [
    {
     "name": "stdout",
     "output_type": "stream",
     "text": [
      "basis = \n",
      "[[1. 0. 0.]\n",
      " [0. 1. 0.]\n",
      " [0. 0. 1.]]\n",
      "\n",
      "cs = [ 0.57735027+0.j          0.        +0.57735027j -0.57735027+0.j        ]\n",
      "\n",
      "psi = [ 0.57735027+0.j          0.        +0.57735027j -0.57735027+0.j        ]\n",
      "\n",
      "A = \n",
      "[[1 0 0]\n",
      " [0 2 0]\n",
      " [0 0 3]]\n",
      "\n",
      "<A> = 2.0000000000000004\n",
      "\n"
     ]
    }
   ],
   "source": [
    "import numpy as np\n",
    "\n",
    "d = 3\n",
    "basis = np.eye(d)\n",
    "print(f'basis = \\n{basis}\\n')\n",
    "\n",
    "# some coefficients of the state\n",
    "cs = np.array([1/np.sqrt(3), 1j/np.sqrt(3), -1/np.sqrt(3)])\n",
    "print(f'cs = {cs}\\n')\n",
    "\n",
    "# the state psi\n",
    "psi = sum([c*b for c, b in zip(cs, basis)])\n",
    "print(f'psi = {psi}\\n')\n",
    "\n",
    "# some operator\n",
    "A = np.array([[1, 0, 0], [0, 2, 0], [0, 0, 3]])\n",
    "print(f'A = \\n{A}\\n')\n",
    "\n",
    "# the expectation value of A in the state psi\n",
    "exp_A = np.real(psi.conj().T @ A @ psi)\n",
    "print(f'<A> = {exp_A}\\n')"
   ]
  },
  {
   "cell_type": "markdown",
   "metadata": {},
   "source": [
    "**2.3. Definition and properties of the density operator**\n",
    "\n",
    "The density operator:\n",
    "\n",
    "$$\\rho = \\sum_{i,j=1}^{d}p_{ij}|\\psi_i\\rangle\\langle\\psi_j|$$\n",
    "\n",
    "The expactation value can be calculated as,\n",
    "\n",
    "$$\\langle A \\rangle = \\text{Tr}[A\\rho]$$"
   ]
  },
  {
   "cell_type": "code",
   "execution_count": 28,
   "metadata": {},
   "outputs": [
    {
     "name": "stdout",
     "output_type": "stream",
     "text": [
      "rho = \n",
      "[[0.1 0.  0. ]\n",
      " [0.  0.3 0. ]\n",
      " [0.  0.  0.6]]\n",
      "\n",
      "<A> = 2.5\n",
      "\n"
     ]
    }
   ],
   "source": [
    "import numpy as np\n",
    "\n",
    "d = 3\n",
    "basis = np.eye(d)\n",
    "\n",
    "# some probabilities\n",
    "ps = np.array([0.1, 0.3, 0.6])\n",
    "\n",
    "# the density operator of pure state\n",
    "rho = sum([p*np.outer(b, b.conj()) for p, b in zip(ps, basis)])\n",
    "print(f'rho = \\n{rho}\\n')\n",
    "\n",
    "# some operator\n",
    "A = np.array([[1, 0, 0], [0, 2, 0], [0, 0, 3]])\n",
    "\n",
    "# the expectation value of A in the state rho\n",
    "exp_A = np.real(np.trace(rho @ A))\n",
    "print(f'<A> = {exp_A}\\n')"
   ]
  },
  {
   "cell_type": "markdown",
   "metadata": {},
   "source": [
    "**2.4. Composite systems**\n",
    "\n",
    "**2.4.1. Tensor product and partial trace**\n",
    "\n",
    "The bipartite pure state:\n",
    "\n",
    "$$|\\psi(\\theta)\\rangle = \\cos(\\theta)|00\\rangle + \\sin(\\theta)|11\\rangle$$"
   ]
  },
  {
   "cell_type": "code",
   "execution_count": 35,
   "metadata": {},
   "outputs": [
    {
     "name": "stdout",
     "output_type": "stream",
     "text": [
      "psi = [0 1 0 0]\n",
      "\n",
      "rho = \n",
      "[[0 0 0 0]\n",
      " [0 1 0 0]\n",
      " [0 0 0 0]\n",
      " [0 0 0 0]]\n",
      "\n",
      "rho1 = \n",
      "[[1 0]\n",
      " [0 0]]\n",
      "\n",
      "rho2 = \n",
      "[[0 0]\n",
      " [0 1]]\n",
      "\n"
     ]
    }
   ],
   "source": [
    "# Kronecker product\n",
    "psi1 = np.array([1, 0])\n",
    "psi2 = np.array([0, 1])\n",
    "psi = np.kron(psi1, psi2)\n",
    "print(f'psi = {psi}\\n')\n",
    "\n",
    "# partial trace\n",
    "d1 = 2\n",
    "d2 = 2\n",
    "\n",
    "rho = np.outer(psi, psi.conj())\n",
    "print(f'rho = \\n{rho}\\n')\n",
    "\n",
    "rho1 = np.trace(rho.reshape(d1, d2, d1, d2), axis1=1, axis2=3)\n",
    "print(f'rho1 = \\n{rho1}\\n')\n",
    "\n",
    "rho2 = np.trace(rho.reshape(d1, d2, d1, d2), axis1=0, axis2=2)\n",
    "print(f'rho2 = \\n{rho2}\\n')"
   ]
  }
 ],
 "metadata": {
  "kernelspec": {
   "display_name": "base",
   "language": "python",
   "name": "python3"
  },
  "language_info": {
   "codemirror_mode": {
    "name": "ipython",
    "version": 3
   },
   "file_extension": ".py",
   "mimetype": "text/x-python",
   "name": "python",
   "nbconvert_exporter": "python",
   "pygments_lexer": "ipython3",
   "version": "3.11.7"
  }
 },
 "nbformat": 4,
 "nbformat_minor": 2
}

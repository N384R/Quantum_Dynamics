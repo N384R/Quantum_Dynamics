{
 "cells": [
  {
   "cell_type": "code",
   "execution_count": 18,
   "metadata": {},
   "outputs": [
    {
     "data": {
      "image/png": "[encoded data removed]",
      "text/plain": [
       "<Figure size 370.906x200.667 with 1 Axes>"
      ]
     },
     "execution_count": 18,
     "metadata": {},
     "output_type": "execute_result"
    }
   ],
   "source": [
    "from qiskit import QuantumCircuit, transpile\n",
    "from qiskit.quantum_info import SparsePauliOp\n",
    "from qiskit.circuit.library import PauliEvolutionGate\n",
    "import numpy as np\n",
    "\n",
    "# Define the Pauli operator: \"IIZI\" on 4 qubits\n",
    "pauli_op = SparsePauliOp(['IZ', 'ZI', 'XX', 'YY'])\n",
    "\n",
    "# Define the rotation angle (time evolution parameter)\n",
    "theta = np.pi / 4  # Example value\n",
    "\n",
    "# Create the PauliEvolutionGate\n",
    "evolution_gate = PauliEvolutionGate(pauli_op, time=theta)\n",
    "\n",
    "# Initialize a 4-qubit quantum circuit\n",
    "qc = QuantumCircuit(2)\n",
    "\n",
    "# Add the PauliEvolutionGate to the circuit\n",
    "qc.append(evolution_gate, range(2))\n",
    "\n",
    "# Show the circuit\n",
    "qc_decomposed = transpile(qc, basis_gates=['cx', 'rx', 'rz', 'ry', 'h'])\n",
    "qc_decomposed.draw('mpl')"
   ]
  }
 ],
 "metadata": {
  "kernelspec": {
   "display_name": "base",
   "language": "python",
   "name": "python3"
  },
  "language_info": {
   "codemirror_mode": {
    "name": "ipython",
    "version": 3
   },
   "file_extension": ".py",
   "mimetype": "text/x-python",
   "name": "python",
   "nbconvert_exporter": "python",
   "pygments_lexer": "ipython3",
   "version": "3.11.7"
  }
 },
 "nbformat": 4,
 "nbformat_minor": 2
}

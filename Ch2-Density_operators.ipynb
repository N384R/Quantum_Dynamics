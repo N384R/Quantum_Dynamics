{
 "cells": [
  {
   "cell_type": "markdown",
   "metadata": {},
   "source": [
    "**2. Density Operators**"
   ]
  },
  {
   "cell_type": "markdown",
   "metadata": {},
   "source": [
    "**2.1. Pure states**\n",
    "\n",
    "Coherent superposition, or pure states:\n",
    "\n",
    "$$|\\psi\\rangle = c_1 |\\phi_1\\rangle + c_2|\\phi_2\\rangle + ... + c_d|\\phi_d\\rangle = \\sum_{j=1}^{d}{c_j|\\phi_j}\\rangle$$\n",
    "\n",
    "Expectation values:\n",
    "\n",
    "$$\\langle A \\rangle = \\langle\\psi|A|\\psi\\rangle$$"
   ]
  },
  {
   "cell_type": "code",
   "execution_count": 23,
   "metadata": {},
   "outputs": [
    {
     "name": "stdout",
     "output_type": "stream",
     "text": [
      "basis = \n",
      "[[1. 0. 0.]\n",
      " [0. 1. 0.]\n",
      " [0. 0. 1.]]\n",
      "\n",
      "cs = [ 0.57735027+0.j          0.        +0.57735027j -0.57735027+0.j        ]\n",
      "\n",
      "psi = [ 0.57735027+0.j          0.        +0.57735027j -0.57735027+0.j        ]\n",
      "\n",
      "A = \n",
      "[[1 0 0]\n",
      " [0 2 0]\n",
      " [0 0 3]]\n",
      "\n",
      "<A> = 2.0000000000000004\n",
      "\n"
     ]
    }
   ],
   "source": [
    "import numpy as np\n",
    "\n",
    "d = 3\n",
    "basis = np.eye(d)\n",
    "print(f'basis = \\n{basis}\\n')\n",
    "\n",
    "# some coefficients of the state\n",
    "cs = np.array([1/np.sqrt(3), 1j/np.sqrt(3), -1/np.sqrt(3)])\n",
    "print(f'cs = {cs}\\n')\n",
    "\n",
    "# the state psi\n",
    "psi = sum([c*b for c, b in zip(cs, basis)])\n",
    "print(f'psi = {psi}\\n')\n",
    "\n",
    "# some operator\n",
    "A = np.array([[1, 0, 0], [0, 2, 0], [0, 0, 3]])\n",
    "print(f'A = \\n{A}\\n')\n",
    "\n",
    "# the expectation value of A in the state psi\n",
    "exp_A = np.real(psi.conj().T @ A @ psi)\n",
    "print(f'<A> = {exp_A}\\n')"
   ]
  },
  {
   "cell_type": "markdown",
   "metadata": {},
   "source": [
    "**2.3. Definition and properties of the density operator**\n",
    "\n",
    "The density operator:\n",
    "\n",
    "$$\\rho = \\sum_{i,j=1}^{d}p_{ij}|\\psi_i\\rangle\\langle\\psi_j|$$\n",
    "\n",
    "The expactation value can be calculated as,\n",
    "\n",
    "$$\\langle A \\rangle = \\text{Tr}[A\\rho]$$"
   ]
  },
  {
   "cell_type": "code",
   "execution_count": 28,
   "metadata": {},
   "outputs": [
    {
     "name": "stdout",
     "output_type": "stream",
     "text": [
      "rho = \n",
      "[[0.1 0.  0. ]\n",
      " [0.  0.3 0. ]\n",
      " [0.  0.  0.6]]\n",
      "\n",
      "<A> = 2.5\n",
      "\n"
     ]
    }
   ],
   "source": [
    "import numpy as np\n",
    "\n",
    "d = 3\n",
    "basis = np.eye(d)\n",
    "\n",
    "# some probabilities\n",
    "ps = np.array([0.1, 0.3, 0.6])\n",
    "\n",
    "# the density operator of pure state\n",
    "rho = sum([p*np.outer(b, b.conj()) for p, b in zip(ps, basis)])\n",
    "print(f'rho = \\n{rho}\\n')\n",
    "\n",
    "# some operator\n",
    "A = np.array([[1, 0, 0], [0, 2, 0], [0, 0, 3]])\n",
    "\n",
    "# the expectation value of A in the state rho\n",
    "exp_A = np.real(np.trace(rho @ A))\n",
    "print(f'<A> = {exp_A}\\n')"
   ]
  },
  {
   "cell_type": "markdown",
   "metadata": {},
   "source": [
    "**2.4. Composite systems**\n",
    "\n",
    "**2.4.1. Tensor product and partial trace**\n",
    "\n",
    "Composite systems:\n",
    "\n",
    "$$ \\mathcal{H} = \\otimes_i \\mathcal{H}_i$$\n",
    "\n",
    "The tensor product:\n",
    "\n",
    "$$ \\mathcal{B} = \\Bigl\\{|\\phi_i\\rangle_1 \\otimes |\\phi_j\\rangle_2\\Bigr\\}_{i,j}$$\n",
    "\n",
    "The partial trace of *tracing over* the subsystem 2:\n",
    "\n",
    "$$\\rho_1 = \\text{Tr}_2[\\rho]$$"
   ]
  },
  {
   "cell_type": "code",
   "execution_count": 12,
   "metadata": {},
   "outputs": [
    {
     "name": "stdout",
     "output_type": "stream",
     "text": [
      "psi = [0 1 0 0]\n",
      "\n",
      "rho = \n",
      "[[0 0 0 0]\n",
      " [0 1 0 0]\n",
      " [0 0 0 0]\n",
      " [0 0 0 0]]\n",
      "\n",
      "rho1 = \n",
      "[[1 0]\n",
      " [0 0]]\n",
      "\n",
      "rho2 = \n",
      "[[0 0]\n",
      " [0 1]]\n",
      "\n"
     ]
    }
   ],
   "source": [
    "# Kronecker product\n",
    "psi1 = np.array([1, 0])\n",
    "psi2 = np.array([0, 1])\n",
    "psi = np.kron(psi1, psi2)\n",
    "print(f'psi = {psi}\\n')\n",
    "\n",
    "# partial trace\n",
    "d1 = len(psi1)\n",
    "d2 = len(psi2)\n",
    "\n",
    "rho = np.outer(psi, psi.conj())\n",
    "print(f'rho = \\n{rho}\\n')\n",
    "\n",
    "rho1 = np.trace(rho.reshape(d1, d2, d1, d2), axis1=1, axis2=3)\n",
    "print(f'rho1 = \\n{rho1}\\n')\n",
    "\n",
    "rho2 = np.trace(rho.reshape(d1, d2, d1, d2), axis1=0, axis2=2)\n",
    "print(f'rho2 = \\n{rho2}\\n')"
   ]
  },
  {
   "cell_type": "markdown",
   "metadata": {},
   "source": [
    "The bipartite pure state:\n",
    "\n",
    "$$|\\psi(\\theta)\\rangle = \\cos(\\theta)|00\\rangle + \\sin(\\theta)|11\\rangle$$\n",
    "\n",
    "The state $\\rho(\\theta) = |\\psi(\\theta)\\rangle \\langle\\psi(\\theta)|$ is spearable for $\\theta = 0, \\pi/2$, and entangled otherwise, being maximally entangled for $\\theta = \\pi/4$.\n",
    "\n",
    "To measure the degree of mixedness of a density operator we can use the *purity* $\\mathcal{P}$,\n",
    "\n",
    "$$\\mathcal{P}[\\rho] = \\text{Tr}[\\rho^2] = \\sum_{j=1}^{d}p_j^2$$\n",
    "\n",
    "which is bounded between 1, for pure states $\\rho = |\\psi\\rangle\\langle\\psi|$ and $1/d$, for maxiamlly mixed states $\\rho = \\mathbf{1}/d$.\n",
    "\n",
    "The following script calculates the marginal state of the first subsystem, $\\rho_1(\\theta) = \\text{Tr}_2\\rho(\\theta)$, showing that its purity $\\mathcal{P}[\\rho_1(\\theta)] < 1$ for $\\theta \\neq k\\pi / 2$."
   ]
  },
  {
   "cell_type": "code",
   "execution_count": 13,
   "metadata": {},
   "outputs": [
    {
     "data": {
      "image/png": "[encoded data removed]",
      "text/plain": [
       "<Figure size 600x200 with 1 Axes>"
      ]
     },
     "metadata": {},
     "output_type": "display_data"
    }
   ],
   "source": [
    "import numpy as np\n",
    "import matplotlib.pyplot as plt\n",
    "\n",
    "# Purity of state rho\n",
    "def Purity(rho):\n",
    "    return np.trace(rho @ rho)\n",
    "\n",
    "# partial trace of bipartite systems\n",
    "def PartialTrace(rho, d1, d2, system=1):\n",
    "    axis1, axis2 = (0, 2) if system == 1 else (1, 3)\n",
    "    return np.trace(rho.reshape(d1, d2, d1, d2), axis1=axis1, axis2=axis2)\n",
    "\n",
    "d1, d2 = 2, 2 # dimension\n",
    "B1, B2 = np.eye(d1), np.eye(d2) # basis\n",
    "thetas = np.linspace(0, np.pi/2, 100)\n",
    "purity = []\n",
    "\n",
    "for theta in thetas:\n",
    "    psi = (np.cos(theta)*np.kron(B1[0], B2[0]) + \\\n",
    "           np.sin(theta)*np.kron(B1[1], B2[1]))\n",
    "    rho = np.outer(psi, psi.conj()) # density operator\n",
    "    rho1 = PartialTrace(rho, d1, d2, system=1)\n",
    "    purity.append(Purity(rho1))\n",
    "\n",
    "fig, ax = plt.subplots(figsize=(6, 2))\n",
    "\n",
    "ax.plot(thetas/np.pi, purity, 'b')\n",
    "ax.set_xlabel(r'$\\theta/\\pi$')\n",
    "ax.set_ylabel(r'Purity $\\mathcal{P}[\\rho_1(\\theta)]$')\n",
    "\n",
    "plt.show()"
   ]
  },
  {
   "cell_type": "markdown",
   "metadata": {},
   "source": [
    "**2.4.2 Direct sum**\n",
    "\n",
    "The direct sum:\n",
    "\n",
    "$$\\mathcal{H} = \\mathcal{H}_a \\oplus \\mathcal{H}_b$$\n",
    "\n",
    "A basis of this space is constructed by using a block matrix:\n",
    "\n",
    "$$M = \\begin{pmatrix} M_a & \\mathbf{0} \\\\ \\mathbf{0}^\\text{T} & M_b \\end{pmatrix} $$"
   ]
  },
  {
   "cell_type": "code",
   "execution_count": 18,
   "metadata": {},
   "outputs": [
    {
     "name": "stdout",
     "output_type": "stream",
     "text": [
      "basis = \n",
      "[[1. 0. 0. 0. 0.]\n",
      " [0. 1. 0. 0. 0.]\n",
      " [0. 0. 1. 0. 0.]\n",
      " [0. 0. 0. 1. 0.]\n",
      " [0. 0. 0. 0. 1.]]\n",
      "\n"
     ]
    }
   ],
   "source": [
    "import numpy as np\n",
    "\n",
    "d_a, d_b = 2, 3 # dimensions\n",
    "basis_a, basis_b = np.eye(d_a), np.eye(d_b) # bases\n",
    "zeros = np.zeros((d_a, d_b))\n",
    "basis = np.block([[basis_a, zeros],\n",
    "                  [zeros.T, basis_b]]) # joint basis\n",
    "print(f'basis = \\n{basis}\\n')"
   ]
  },
  {
   "cell_type": "markdown",
   "metadata": {},
   "source": [
    "**2.5. Schrodinger and von Neumann equations**\n",
    "\n",
    "The *von Neumann* equation:\n",
    "\n",
    "$$\\dot{\\rho}(t) = -\\frac{i}{\\hbar}[H, \\rho(t)]$$\n",
    "\n",
    "In general, the solution to this equation is given by some unitary operator $U(t;t_0)$ that propagates the state from $t_0$ to $t$.\n",
    "\n",
    "$$\\rho(t) = U(t;t_0)\\rho(t_0)U(t;t_0)^\\dagger$$\n",
    "\n",
    "If $H$ is time-independent the solution is given by $U(t;t_0) = exp[-iH(t-t_0)/\\hbar]$ and can be reduced to $U(\\tau) = exp[-iH\\tau/\\hbar]$."
   ]
  },
  {
   "cell_type": "markdown",
   "metadata": {},
   "source": [
    "**2.5.1 Open quantum systems**\n",
    "\n",
    "The dynamics of the full composite systems $\\text{S-E}$ follows the above equation with Hamiltonian:\n",
    "\n",
    "$$ H = H_\\text{S} + H_\\text{E} + H_\\text{int}$$\n",
    "\n",
    "If the solution $U(t;t_0)$ is known, the dynamics of the system $\\text{S}$ can be drawn from the state of the universe $\\rho$ by tracing over the envronment's degrees of freedom,\n",
    "\n",
    "$$\\rho_\\text{S}(t) = \\text{Tr}_\\text{E}[\\rho(t)]$$\n",
    "\n",
    "However, finding $U$ for large composite systems is often a difficult problem. Instead, we obtain the dynamics by the following equation:\n",
    "\n",
    "$$\\dot{\\rho}_\\text{S}(t) = -\\frac{i}{\\hbar}\\text{Tr}_\\text{E}{[H,\\rho(t)]}$$"
   ]
  }
 ],
 "metadata": {
  "kernelspec": {
   "display_name": "base",
   "language": "python",
   "name": "python3"
  },
  "language_info": {
   "codemirror_mode": {
    "name": "ipython",
    "version": 3
   },
   "file_extension": ".py",
   "mimetype": "text/x-python",
   "name": "python",
   "nbconvert_exporter": "python",
   "pygments_lexer": "ipython3",
   "version": "3.11.7"
  }
 },
 "nbformat": 4,
 "nbformat_minor": 2
}

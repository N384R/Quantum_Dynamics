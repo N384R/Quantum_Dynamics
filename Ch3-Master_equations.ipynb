{
 "cells": [
  {
   "cell_type": "markdown",
   "metadata": {},
   "source": [
    "**3. Density Operator master equations**\n",
    "\n",
    "**3.1. Introduction to Lindblad master equation**\n",
    "\n",
    "The Gorini-Kossakowski-Sudarshan-Lindblad (GKSL) master equation, often known as the *Lindblad* master equation:\n",
    "\n",
    "$$\\dot{\\rho}(t) = -\\frac{i}{\\hbar} [H, \\rho(t)] + \\sum_k \\gamma_k \\left(L_k\\rho(t)L_k^\\dagger - \\frac{1}{2}\\Bigl\\{L_k^\\dagger L_k, \\rho(t)\\Bigr\\}\\right)$$\n",
    "\n",
    "where $\\{L_k\\}$ are the *Lindblad* operators representing some non-unitary processes like relaxation or decoherence that occur at some rates $\\{\\gamma_k\\}$.\n",
    "\n",
    "Like the Hamiltonian generates coherent dynamics, the Lindblad operators generate incoherent transitions in the space of states. Unlike the Hamiltonian, they do not need to be hermitian. For example, a decay transition from some excited state $|e\\rangle$ to some ground state $|g\\rangle$ is mediated by the Lindblad operator\n",
    "\n",
    "$$L_\\downarrow = |g\\rangle\\langle e|$$\n",
    "\n",
    "Indeed, when we apply $L_\\downarrow$ to $|e\\rangle$ we obtain $|g\\rangle = L_\\downarrow|e\\rangle$. Note that $L_\\downarrow^\\dagger = |e\\rangle\\langle g| \\neq L_\\downarrow$.\n",
    "\n",
    "This Lindblad equation is used to approxiamte the evolution of the density operator of a system $\\text{S}$ with Hamiltonian $H$ that is weakly coupled to a Markovian (memory-less) environment, and is a general form for a **completely positive and trace-preserving (CPTP) Markovian** and **time-homogeneous map** for the evolution of the system's density operator $\\rho$."
   ]
  },
  {
   "cell_type": "markdown",
   "metadata": {},
   "source": [
    "**3.2 The Liouville superoperator**\n",
    "\n",
    "When solving the Lindblad equation, it is convenient to express the master equation in a vector notation,\n",
    "\n",
    "$$\\dot{\\boldsymbol{\\rho}} = \\mathcal{L}\\boldsymbol{\\rho}$$\n",
    "\n",
    "known as a *superoperator* or *Liouville* form, where $\\boldsymbol{\\rho} = \\text{vec}(\\rho)$ is the *vectorized* form of $\\rho$, and $\\mathcal{L}$ is the superoperator associated with the generator $\\dot{\\rho}$."
   ]
  },
  {
   "cell_type": "code",
   "execution_count": 8,
   "metadata": {},
   "outputs": [
    {
     "name": "stdout",
     "output_type": "stream",
     "text": [
      "vectorized rho = \n",
      "[[ 0.11111111+0.j        ]\n",
      " [ 0.        -0.22222222j]\n",
      " [ 0.        +0.j        ]\n",
      " [ 0.        +0.22222222j]\n",
      " [ 0.        +0.22222222j]\n",
      " [ 0.44444444+0.j        ]\n",
      " [ 0.        +0.j        ]\n",
      " [-0.44444444+0.j        ]\n",
      " [ 0.        +0.j        ]\n",
      " [ 0.        +0.j        ]\n",
      " [ 0.        +0.j        ]\n",
      " [ 0.        +0.j        ]\n",
      " [-0.        -0.22222222j]\n",
      " [-0.44444444+0.j        ]\n",
      " [ 0.        +0.j        ]\n",
      " [ 0.44444444+0.j        ]]\n",
      "\n"
     ]
    }
   ],
   "source": [
    "import numpy as np\n",
    "\n",
    "psi = np.array([1, 2j, 0, -2.0j])\n",
    "rho = np.outer(psi, psi.conj())\n",
    "\n",
    "rho /= np.trace(rho)\n",
    "d = len(psi)\n",
    "\n",
    "vec_rho = np.reshape(rho, (d**2, 1))\n",
    "\n",
    "print(f'vectorized rho = \\n{vec_rho}\\n')"
   ]
  },
  {
   "cell_type": "markdown",
   "metadata": {},
   "source": [
    "**3.2.1. Constructing the Liouville superoperator**\n",
    "\n",
    "Two common ways to construct the superoperator $\\mathcal{L}$ are to either follow an index prescription for the superoperator tensor $\\rho_{ab} = \\sum_{cd}\\mathcal{L}_{abcd}\\rho_{cd}$, or to use the following linear algebra idenity for the column-ordered form of $\\text{vec}(\\rho)$:\n",
    "\n",
    "$$\\text{vec}(AXB) = (B^\\text{T} \\otimes A)\\text{vec}(X)$$\n",
    "\n",
    "Thus, the Lindblad equation:\n",
    "\n",
    "$$ \\mathbf{1}\\dot{\\rho}\\mathbf{1} = -\\frac{i}{\\hbar}\\left(H\\rho\\mathbf{1} - \\mathbf{1}\\rho H \\right) + \\sum_k \\gamma_k \\left(L_k\\rho L_k^\\dagger - \\frac{1}{2} \\left(L_k^\\dagger L_k \\rho \\mathbf{1} + \\mathbf{1}\\rho L_k^\\dagger L_k \\right) \\right) $$\n",
    "\n",
    "Now we obtain the Liouville superoperator:\n",
    "\n",
    "$$ \\mathcal{L} = -\\frac{i}{\\hbar}\\left(\\mathbf{1} \\otimes H - H^\\text{T} \\otimes \\mathbf{1} \\right) + \\sum_k \\gamma_k \\left(L_k^* \\otimes L_k - \\frac{1}{2} \\left(\\mathbf{1} \\otimes L_k^\\dagger L_k + L_k^\\text{T} L_k^* \\otimes \\mathbf{1} \\right) \\right) $$"
   ]
  },
  {
   "cell_type": "code",
   "execution_count": 15,
   "metadata": {},
   "outputs": [
    {
     "name": "stdout",
     "output_type": "stream",
     "text": [
      "Hamiltonian = \n",
      "[[0 1]\n",
      " [1 1]]\n",
      "\n",
      "Lindblad operators = \n",
      "[array([[0, 1],\n",
      "       [0, 0]])]\n",
      "\n",
      "Liouvillian superoperator = \n",
      "[[ 0. +0.j  0. -1.j  0. +1.j  1. +0.j]\n",
      " [ 0. -1.j -0.5-1.j  0. +0.j  0. +1.j]\n",
      " [ 0. +1.j  0. +0.j -0.5+1.j  0. -1.j]\n",
      " [ 0. +0.j  0. +1.j  0. -1.j -1. +0.j]]\n",
      "\n"
     ]
    }
   ],
   "source": [
    "import numpy as np\n",
    "\n",
    "'''\n",
    "Constructs the Liouville superoperator\n",
    "from the Hamiltonian and the set of Lindblad operators.\n",
    "'''\n",
    "def Liouvillian(H, Ls, hbar = 1):\n",
    "    d = len(H)\n",
    "    superH = -1j/hbar * (np.kron(np.eye(d), H) - np.kron(H.T, np.eye(d)))\n",
    "    superL = sum([np.kron(L.conj(), L)\n",
    "                  - 1/2 * (np.kron(np.eye(d), L.conj().T @ L) +\n",
    "                           np.kron(L.T @ L.conj(), np.eye(d))\n",
    "                           ) for L in Ls])\n",
    "    return superH + superL\n",
    "\n",
    "H = np.array([[0, 1], [1, 1]]) # Hamiltonian\n",
    "Ls = [np.array([[0, 1], [0, 0]])] # Lindblad operators\n",
    "superop = Liouvillian(H, Ls)\n",
    "\n",
    "print(f'Hamiltonian = \\n{H}\\n')\n",
    "print(f'Lindblad operators = \\n{Ls}\\n')\n",
    "print(f'Liouvillian superoperator = \\n{superop}\\n')"
   ]
  },
  {
   "cell_type": "markdown",
   "metadata": {},
   "source": [
    "**3.3 Steady-state solution**\n",
    "\n",
    "**3.3.1. Using the null space of Liouville superoperator**\n",
    "\n",
    "\n",
    "The steady state solution ($\\dot{\\rho}=0$) which is often measured directly in experiments. To find any steady state solutions we solve for the *null space* of $\\mathcal{L}$, which is the subspace of all vectors $\\boldsymbol{\\rho}$ that satisfy the equation.\n",
    "\n",
    "$$\\mathcal{L}\\boldsymbol{\\rho} = 0 $$\n",
    "\n",
    "If there is a unique solution, solving for the null space will provide the corresponding steady dtate density matrix vector $\\boldsymbol{\\rho}(\\infty)$ up to a constant factor.\n",
    "\n",
    "If there are multiple solutions, solving for the null space will give linearly independent vectors. In such case, the steady state depends on the inital state of the system. For example, let us consider a two-level Hamiltonian $H$ with energy splitting $\\Delta$ and coupling $\\Omega$, and Lindblad operators $L_\\downarrow$ and $L_0$ associated with spontaneous relaxation and depasing, respectively,\n",
    "\n",
    "$$H=\\hbar \\begin{pmatrix} 0 & \\Omega \\\\ \\Omega & \\Delta \\end{pmatrix}, \\quad L_\\downarrow = \\sqrt{\\gamma_\\downarrow} \\begin{pmatrix} 0 & 1 \\\\ 0 & 0 \\end{pmatrix}, \\quad L_0 = \\sqrt{\\gamma_0} \\begin{pmatrix} 1 & 0 \\\\ 0 & 1 \\end{pmatrix}$$\n",
    "\n",
    "where $\\gamma_\\downarrow$ and $\\gamma_0$ are the rates associated with relaxation and dephasing. In the following script, we construct $\\mathcal{L}$ in python and solve for its null space for the case of $\\text{(i)}$ relaxation and no-driving limit $\\Omega, \\gamma_0 = 0$, and $\\text{(ii)}$ dephasing and driving, with no relaxation, $\\gamma_\\downarrow = 0$."
   ]
  },
  {
   "cell_type": "code",
   "execution_count": 56,
   "metadata": {},
   "outputs": [
    {
     "name": "stdout",
     "output_type": "stream",
     "text": [
      "(i) The steady-state space is a linear subspace of dimension 1.\n",
      "\n",
      "null = \n",
      "[[-1.-0.j]\n",
      " [ 0.-0.j]\n",
      " [-0.-0.j]\n",
      " [ 0.-0.j]]\n",
      "\n",
      "rho_ss = \n",
      "[[ 1.+0.j -0.-0.j]\n",
      " [-0.+0.j -0.-0.j]]\n",
      "\n",
      "(ii) The steady-state space is a linear subspace of dimension 2.\n",
      "\n",
      "null = \n",
      "[[ 0.61083942-0.j         -0.47631419-0.j        ]\n",
      " [ 0.13501687-0.10663722j  0.59304055-0.13675473j]\n",
      " [ 0.13501687-0.10663722j  0.59304055-0.13675473j]\n",
      " [ 0.74585629-0.10663722j  0.11672636-0.13675473j]]\n",
      "\n"
     ]
    }
   ],
   "source": [
    "from scipy.linalg import null_space\n",
    "\n",
    "# two-level Hamiltonian from delta and omega parameters\n",
    "def H_tls(omega, delta):\n",
    "    return np.array([[0, omega], [omega, delta]])\n",
    "\n",
    "# Lindblad operators for spontaneous relaxation and dephasing\n",
    "def Ls_tls(g_relax, g_deph):\n",
    "    return [np.array([[0, 1], [0, 0]]) * np.sqrt(g_relax),\n",
    "            np.array([[1, 0], [0, 1]]) * np.sqrt(g_deph)]\n",
    "\n",
    "# ------ (i) relaxation with no-driving ------\n",
    "omega, delta, g_relax, g_deph = 0, 1, 1, 0\n",
    "superop = Liouvillian(H_tls(omega, delta), Ls_tls(g_relax, g_deph))\n",
    "null = null_space(superop)\n",
    "print(f'(i) The steady-state space is a linear subspace of dimension {len(null.T)}.\\n')\n",
    "print(f'null = \\n{null}\\n')\n",
    "rho_ss = np.reshape(null, (2, 2))\n",
    "rho_ss /= np.trace(rho_ss)\n",
    "print(f'rho_ss = \\n{rho_ss}\\n')\n",
    "\n",
    "# ------ (ii) dephasing with driving ------\n",
    "omega, delta, g_relax, g_deph = 1, 1, 0, 1\n",
    "superop = Liouvillian(H_tls(omega, delta), Ls_tls(g_relax, g_deph))\n",
    "null = null_space(superop)\n",
    "print(f'(ii) The steady-state space is a linear subspace of dimension {len(null.T)}.\\n')\n",
    "print(f'null = \\n{null}\\n')"
   ]
  },
  {
   "cell_type": "markdown",
   "metadata": {},
   "source": [
    "In the limit of relaxation and no-driving, there is a unique steady state $\\boldsymbol{\\rho}(\\infty) = (1, 0, 0, 0)^\\text{T}$, which is the ground state of the system, as expected for a two-system undergoing spontaneous relaxation with no driving field. \n",
    "\n",
    "Instead, for the case of dephasing and driving, the null function returns two vectors that spand the two-dimensional linear subspace associated with the null space of $\\mathcal{L}$. In this case, the specific steady state depends on the choice of inital state."
   ]
  },
  {
   "cell_type": "markdown",
   "metadata": {},
   "source": [
    "**3.3.2. Algebraic solution**\n",
    "\n",
    "The steady state solution $\\boldsymbol{\\rho}(\\infty)$ for both linear and non-linear generators can be obtaind by the Lindblad equation for $\\dot{\\rho} = 0$ algebraically (or symbolically). In python, this can be done using the solve method of the SymPy library."
   ]
  },
  {
   "cell_type": "code",
   "execution_count": 69,
   "metadata": {},
   "outputs": [
    {
     "name": "stdout",
     "output_type": "stream",
     "text": [
      "rho_ss = \n",
      "Matrix([[1.00000000000000, 0], [0, 0]])\n",
      "\n"
     ]
    }
   ],
   "source": [
    "from sympy import *\n",
    "\n",
    "# real variables\n",
    "a, Gamma, Omega, Delta = symbols('a Gamma Omega Delta', real=True)\n",
    "\n",
    "# complex variables\n",
    "b = symbols('b')\n",
    "\n",
    "# general TLS density operator\n",
    "rho = Matrix([[a, b], [b.conjugate(), 1 - a]])\n",
    "\n",
    "# Hamiltonian\n",
    "H_s = Matrix([[0, Omega], [Omega, Delta]])\n",
    "\n",
    "# Lindblad operators\n",
    "L = Matrix([[0, 1], [0, 0]])\n",
    "\n",
    "# Generator\n",
    "rho_dot = (-1j) * (H_s*rho - rho*H_s) + Gamma * (L*rho*L.H - 1/2 * (L.H*L*rho + rho*L.H*L))\n",
    "\n",
    "# Steady-state solution for Omega = 0\n",
    "rho_dot = rho_dot.subs(Omega, 0)\n",
    "sol = solve(flatten(rho_dot), [a, b], dict=True)\n",
    "\n",
    "# steady state\n",
    "rho_ss = rho.subs(sol[0])\n",
    "print(f'rho_ss = \\n{rho_ss}\\n')"
   ]
  },
  {
   "cell_type": "markdown",
   "metadata": {},
   "source": [
    "**3.4 Solving the dynamics of the system**\n",
    "\n"
   ]
  }
 ],
 "metadata": {
  "kernelspec": {
   "display_name": "base",
   "language": "python",
   "name": "python3"
  },
  "language_info": {
   "codemirror_mode": {
    "name": "ipython",
    "version": 3
   },
   "file_extension": ".py",
   "mimetype": "text/x-python",
   "name": "python",
   "nbconvert_exporter": "python",
   "pygments_lexer": "ipython3",
   "version": "3.11.7"
  }
 },
 "nbformat": 4,
 "nbformat_minor": 2
}

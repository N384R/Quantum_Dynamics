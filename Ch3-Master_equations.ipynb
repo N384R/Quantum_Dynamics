{
 "cells": [
  {
   "cell_type": "markdown",
   "metadata": {},
   "source": [
    "**3. Density Operator master equations**\n",
    "\n",
    "**3.1. Introduction to Lindblad master equation**\n",
    "\n",
    "The Gorini-Kossakowski-Sudarshan-Lindblad (GKSL) master equation, often known as the *Lindblad* master equation:\n",
    "\n",
    "$$\\dot{\\rho}(t) = -\\frac{i}{\\hbar} [H, \\rho(t)] + \\sum_k \\gamma_k \\left(L_k\\rho(t)L_k^\\dagger - \\frac{1}{2}\\Bigl\\{L_k^\\dagger L_k, \\rho(t)\\Bigr\\}\\right)$$\n",
    "\n",
    "where $\\{L_k\\}$ are the *Lindblad* operators representing some non-unitary processes like relaxation or decoherence that occur at some rates $\\{\\gamma_k\\}$.\n",
    "\n",
    "Like the Hamiltonian generates coherent dynamics, the Lindblad operators generate incoherent transitions in the space of states. Unlike the Hamiltonian, they do not need to be hermitian. For example, a decay transition from some excited state $|e\\rangle$ to some ground state $|g\\rangle$ is mediated by the Lindblad operator\n",
    "\n",
    "$$L_\\downarrow = |g\\rangle\\langle e|$$\n",
    "\n",
    "Indeed, when we apply $L_\\downarrow$ to $|e\\rangle$ we obtain $|g\\rangle = L_\\downarrow|e\\rangle$. Note that $L_\\downarrow^\\dagger = |e\\rangle\\langle g| \\neq L_\\downarrow$.\n",
    "\n",
    "This Lindblad equation is used to approxiamte the evolution of the density operator of a system $\\text{S}$ with Hamiltonian $H$ that is weakly coupled to a Markovian (memory-less) environment, and is a general form for a **completely positive and trace-preserving (CPTP) Markovian** and **time-homogeneous map** for the evolution of the system's density operator $\\rho$."
   ]
  },
  {
   "cell_type": "markdown",
   "metadata": {},
   "source": [
    "**3.2 The Liouville superoperator**\n",
    "\n",
    "When solving the Lindblad equation, it is convenient to express the master equation in a vector notation,\n",
    "\n",
    "$$\\dot{\\boldsymbol{\\rho}} = \\mathcal{L}\\boldsymbol{\\rho}$$\n",
    "\n",
    "known as a *superoperator* or *Liouville* form, where $\\boldsymbol{\\rho} = \\text{vec}(\\rho)$ is the *vectorized* form of $\\rho$, and $\\mathcal{L}$ is the superoperator associated with the generator $\\dot{\\rho}$."
   ]
  },
  {
   "cell_type": "code",
   "execution_count": 2,
   "metadata": {},
   "outputs": [
    {
     "name": "stdout",
     "output_type": "stream",
     "text": [
      "vectorized rho = \n",
      "[[ 0.11111111+0.j        ]\n",
      " [ 0.        -0.22222222j]\n",
      " [ 0.        +0.j        ]\n",
      " [ 0.        +0.22222222j]\n",
      " [ 0.        +0.22222222j]\n",
      " [ 0.44444444+0.j        ]\n",
      " [ 0.        +0.j        ]\n",
      " [-0.44444444+0.j        ]\n",
      " [ 0.        +0.j        ]\n",
      " [ 0.        +0.j        ]\n",
      " [ 0.        +0.j        ]\n",
      " [ 0.        +0.j        ]\n",
      " [-0.        -0.22222222j]\n",
      " [-0.44444444+0.j        ]\n",
      " [ 0.        +0.j        ]\n",
      " [ 0.44444444+0.j        ]]\n",
      "\n"
     ]
    }
   ],
   "source": [
    "import numpy as np\n",
    "\n",
    "psi = np.array([1, 2j, 0, -2.0j])\n",
    "rho = np.outer(psi, psi.conj())\n",
    "\n",
    "rho /= np.trace(rho)\n",
    "d = len(psi)\n",
    "\n",
    "vec_rho = np.reshape(rho, (d**2, 1))\n",
    "\n",
    "print(f'vectorized rho = \\n{vec_rho}\\n')"
   ]
  },
  {
   "cell_type": "markdown",
   "metadata": {},
   "source": [
    "**3.2.1. Constructing the Liouville superoperator**\n",
    "\n",
    "Two common ways to construct the superoperator $\\mathcal{L}$ are to either follow an index prescription for the superoperator tensor $\\rho_{ab} = \\sum_{cd}\\mathcal{L}_{abcd}\\rho_{cd}$, or to use the following linear algebra idenity for the column-ordered form of $\\text{vec}(\\rho)$:\n",
    "\n",
    "$$\\text{vec}(AXB) = (B^\\text{T} \\otimes A)\\text{vec}(X)$$\n",
    "\n",
    "Thus, the Lindblad equation:\n",
    "\n",
    "$$ \\mathbf{1}\\dot{\\rho}\\mathbf{1} = -\\frac{i}{\\hbar}\\left(H\\rho\\mathbf{1} - \\mathbf{1}\\rho H \\right) + \\sum_k \\gamma_k \\left(L_k\\rho L_k^\\dagger - \\frac{1}{2} \\left(L_k^\\dagger L_k \\rho \\mathbf{1} + \\mathbf{1}\\rho L_k^\\dagger L_k \\right) \\right) $$\n",
    "\n",
    "Now we obtain the Liouville superoperator:\n",
    "\n",
    "$$ \\mathcal{L} = -\\frac{i}{\\hbar}\\left(\\mathbf{1} \\otimes H - H^\\text{T} \\otimes \\mathbf{1} \\right) + \\sum_k \\gamma_k \\left(L_k^* \\otimes L_k - \\frac{1}{2} \\left(\\mathbf{1} \\otimes L_k^\\dagger L_k + L_k^\\text{T} L_k^* \\otimes \\mathbf{1} \\right) \\right) $$"
   ]
  },
  {
   "cell_type": "code",
   "execution_count": 3,
   "metadata": {},
   "outputs": [
    {
     "name": "stdout",
     "output_type": "stream",
     "text": [
      "Hamiltonian = \n",
      "[[0 1]\n",
      " [1 1]]\n",
      "\n",
      "Lindblad operators = \n",
      "[array([[0, 1],\n",
      "       [0, 0]])]\n",
      "\n",
      "Liouvillian superoperator = \n",
      "[[ 0. +0.j  0. -1.j  0. +1.j  1. +0.j]\n",
      " [ 0. -1.j -0.5-1.j  0. +0.j  0. +1.j]\n",
      " [ 0. +1.j  0. +0.j -0.5+1.j  0. -1.j]\n",
      " [ 0. +0.j  0. +1.j  0. -1.j -1. +0.j]]\n",
      "\n"
     ]
    }
   ],
   "source": [
    "import numpy as np\n",
    "\n",
    "'''\n",
    "Constructs the Liouville superoperator\n",
    "from the Hamiltonian and the set of Lindblad operators.\n",
    "'''\n",
    "def Liouvillian(H, Ls, hbar = 1):\n",
    "    d = len(H)\n",
    "    superH = -1j/hbar * (np.kron(np.eye(d), H) - np.kron(H.T, np.eye(d)))\n",
    "    superL = sum([np.kron(L.conj(), L)\n",
    "                  - 1/2 * (np.kron(np.eye(d), L.conj().T @ L) +\n",
    "                           np.kron(L.T @ L.conj(), np.eye(d))\n",
    "                           ) for L in Ls])\n",
    "    return superH + superL\n",
    "\n",
    "H = np.array([[0, 1], [1, 1]]) # Hamiltonian\n",
    "Ls = [np.array([[0, 1], [0, 0]])] # Lindblad operators\n",
    "superop = Liouvillian(H, Ls)\n",
    "\n",
    "print(f'Hamiltonian = \\n{H}\\n')\n",
    "print(f'Lindblad operators = \\n{Ls}\\n')\n",
    "print(f'Liouvillian superoperator = \\n{superop}\\n')"
   ]
  },
  {
   "cell_type": "markdown",
   "metadata": {},
   "source": [
    "**3.3 Steady-state solution**\n",
    "\n",
    "**3.3.1. Using the null space of Liouville superoperator**\n",
    "\n",
    "\n",
    "The steady state solution ($\\dot{\\rho}=0$) which is often measured directly in experiments. To find any steady state solutions we solve for the *null space* of $\\mathcal{L}$, which is the subspace of all vectors $\\boldsymbol{\\rho}$ that satisfy the equation.\n",
    "\n",
    "$$\\mathcal{L}\\boldsymbol{\\rho} = 0 $$\n",
    "\n",
    "If there is a unique solution, solving for the null space will provide the corresponding steady dtate density matrix vector $\\boldsymbol{\\rho}(\\infty)$ up to a constant factor.\n",
    "\n",
    "If there are multiple solutions, solving for the null space will give linearly independent vectors. In such case, the steady state depends on the inital state of the system. For example, let us consider a two-level Hamiltonian $H$ with energy splitting $\\Delta$ and coupling $\\Omega$, and Lindblad operators $L_\\downarrow$ and $L_0$ associated with spontaneous relaxation and depasing, respectively,\n",
    "\n",
    "$$H=\\hbar \\begin{pmatrix} 0 & \\Omega \\\\ \\Omega & \\Delta \\end{pmatrix}, \\quad L_\\downarrow = \\sqrt{\\gamma_\\downarrow} \\begin{pmatrix} 0 & 1 \\\\ 0 & 0 \\end{pmatrix}, \\quad L_0 = \\sqrt{\\gamma_0} \\begin{pmatrix} 1 & 0 \\\\ 0 & 1 \\end{pmatrix}$$\n",
    "\n",
    "where $\\gamma_\\downarrow$ and $\\gamma_0$ are the rates associated with relaxation and dephasing. In the following script, we construct $\\mathcal{L}$ in python and solve for its null space for the case of $\\text{(i)}$ relaxation and no-driving limit $\\Omega, \\gamma_0 = 0$, and $\\text{(ii)}$ dephasing and driving, with no relaxation, $\\gamma_\\downarrow = 0$."
   ]
  },
  {
   "cell_type": "code",
   "execution_count": 4,
   "metadata": {},
   "outputs": [
    {
     "name": "stdout",
     "output_type": "stream",
     "text": [
      "(i) The steady-state space is a linear subspace of dimension 1.\n",
      "\n",
      "null = \n",
      "[[-1.-0.j]\n",
      " [ 0.-0.j]\n",
      " [-0.-0.j]\n",
      " [ 0.-0.j]]\n",
      "\n",
      "rho_ss = \n",
      "[[ 1.+0.j -0.-0.j]\n",
      " [-0.+0.j -0.-0.j]]\n",
      "\n",
      "(ii) The steady-state space is a linear subspace of dimension 2.\n",
      "\n",
      "null = \n",
      "[[ 0.61083942-0.j         -0.47631419-0.j        ]\n",
      " [ 0.13501687-0.10663722j  0.59304055-0.13675473j]\n",
      " [ 0.13501687-0.10663722j  0.59304055-0.13675473j]\n",
      " [ 0.74585629-0.10663722j  0.11672636-0.13675473j]]\n",
      "\n"
     ]
    }
   ],
   "source": [
    "from scipy.linalg import null_space\n",
    "\n",
    "# two-level Hamiltonian from delta and omega parameters\n",
    "def H_tls(omega, delta):\n",
    "    return np.array([[0, omega], [omega, delta]])\n",
    "\n",
    "# Lindblad operators for spontaneous relaxation and dephasing\n",
    "def Ls_tls(g_relax, g_deph):\n",
    "    return [np.array([[0, 1], [0, 0]]) * np.sqrt(g_relax),\n",
    "            np.array([[1, 0], [0, 1]]) * np.sqrt(g_deph)]\n",
    "\n",
    "# ------ (i) relaxation with no-driving ------\n",
    "omega, delta, g_relax, g_deph = 0, 1, 1, 0\n",
    "superop = Liouvillian(H_tls(omega, delta), Ls_tls(g_relax, g_deph))\n",
    "null = null_space(superop)\n",
    "print(f'(i) The steady-state space is a linear subspace of dimension {len(null.T)}.\\n')\n",
    "print(f'null = \\n{null}\\n')\n",
    "rho_ss = np.reshape(null, (2, 2))\n",
    "rho_ss /= np.trace(rho_ss)\n",
    "print(f'rho_ss = \\n{rho_ss}\\n')\n",
    "\n",
    "# ------ (ii) dephasing with driving ------\n",
    "omega, delta, g_relax, g_deph = 1, 1, 0, 1\n",
    "superop = Liouvillian(H_tls(omega, delta), Ls_tls(g_relax, g_deph))\n",
    "null = null_space(superop)\n",
    "print(f'(ii) The steady-state space is a linear subspace of dimension {len(null.T)}.\\n')\n",
    "print(f'null = \\n{null}\\n')"
   ]
  },
  {
   "cell_type": "markdown",
   "metadata": {},
   "source": [
    "In the limit of relaxation and no-driving, there is a unique steady state $\\boldsymbol{\\rho}(\\infty) = (1, 0, 0, 0)^\\text{T}$, which is the ground state of the system, as expected for a two-system undergoing spontaneous relaxation with no driving field. \n",
    "\n",
    "Instead, for the case of dephasing and driving, the null function returns two vectors that spand the two-dimensional linear subspace associated with the null space of $\\mathcal{L}$. In this case, the specific steady state depends on the choice of inital state."
   ]
  },
  {
   "cell_type": "markdown",
   "metadata": {},
   "source": [
    "**3.3.2. Algebraic solution**\n",
    "\n",
    "The steady state solution $\\boldsymbol{\\rho}(\\infty)$ for both linear and non-linear generators can be obtaind by the Lindblad equation for $\\dot{\\rho} = 0$ algebraically (or symbolically). In python, this can be done using the solve method of the SymPy library."
   ]
  },
  {
   "cell_type": "code",
   "execution_count": 5,
   "metadata": {},
   "outputs": [
    {
     "name": "stdout",
     "output_type": "stream",
     "text": [
      "rho_ss = \n",
      "Matrix([[1.00000000000000, 0], [0, 0]])\n",
      "\n"
     ]
    }
   ],
   "source": [
    "from sympy import *\n",
    "\n",
    "# real variables\n",
    "a, Gamma, Omega, Delta = symbols('a Gamma Omega Delta', real=True)\n",
    "\n",
    "# complex variables\n",
    "b = symbols('b')\n",
    "\n",
    "# general TLS density operator\n",
    "rho = Matrix([[a, b], [b.conjugate(), 1 - a]])\n",
    "\n",
    "# Hamiltonian\n",
    "H_s = Matrix([[0, Omega], [Omega, Delta]])\n",
    "\n",
    "# Lindblad operators\n",
    "L = Matrix([[0, 1], [0, 0]])\n",
    "\n",
    "# Generator\n",
    "rho_dot = (-1j) * (H_s*rho - rho*H_s) + Gamma * (L*rho*L.H - 1/2 * (L.H*L*rho + rho*L.H*L))\n",
    "\n",
    "# Steady-state solution for Omega = 0\n",
    "rho_dot = rho_dot.subs(Omega, 0)\n",
    "sol = solve(flatten(rho_dot), [a, b], dict=True)\n",
    "\n",
    "# steady state\n",
    "rho_ss = rho.subs(sol[0])\n",
    "print(f'rho_ss = \\n{rho_ss}\\n')"
   ]
  },
  {
   "cell_type": "markdown",
   "metadata": {},
   "source": [
    "**3.4 Solving the dynamics of the system**\n",
    "\n",
    "Let us represent the solution with the dynamical map $\\rho(t) = \\Lambda(t;t_0)[\\rho_0]$. For linear, time-independent generators $\\mathcal{L}$, the solution can be obtained by calculating the following matrix exponential,\n",
    "\n",
    "$$\\boldsymbol{\\rho}(t) = exp[\\mathcal{L}(t-t_0)]\\boldsymbol{\\rho}(t_0)$$\n",
    "\n",
    "The operaotr $P(t;t_0) = exp[\\mathcal{L}(t-t_0)]$ is called the propagator of the evolution. From the propagator, we can obtain the solution $\\rho(t)$ by reshaping $\\boldsymbol{\\rho}(t)$ as described earlier in this section."
   ]
  },
  {
   "cell_type": "code",
   "execution_count": 30,
   "metadata": {},
   "outputs": [
    {
     "name": "stdout",
     "output_type": "stream",
     "text": [
      "Liouvillian superoperator = \n",
      "[[ 0. +0.j   0. -1.j   0. +1.j   1. +0.j ]\n",
      " [ 0. -1.j  -0.5-0.5j  0. +0.j   0. +1.j ]\n",
      " [ 0. +1.j   0. +0.j  -0.5+0.5j  0. -1.j ]\n",
      " [ 0. +0.j   0. +1.j   0. -1.j  -1. +0.j ]]\n",
      "\n"
     ]
    },
    {
     "data": {
      "image/png": "[encoded data removed]",
      "text/plain": [
       "<Figure size 864x288 with 1 Axes>"
      ]
     },
     "metadata": {
      "needs_background": "light"
     },
     "output_type": "display_data"
    }
   ],
   "source": [
    "import numpy as np\n",
    "import matplotlib.pyplot as plt\n",
    "from scipy.linalg import expm\n",
    "\n",
    "H = np.array([[0, 1], [1, 0.5]]) # Hamiltonian\n",
    "c_ops = [np.array([[0, 1], [0, 0]])] # Lindblad operators\n",
    "\n",
    "superop = Liouvillian(H, c_ops)\n",
    "print(f'Liouvillian superoperator = \\n{superop}\\n')\n",
    "rho0 = np.array([[1, 0], [0, 0]]) # initial state\n",
    "\n",
    "# propagation using exmp from scipy\n",
    "def Propagate(rho0, superop, t):\n",
    "    d = len(rho0)\n",
    "    propagator = expm(superop * t)\n",
    "    vec_rho_t = propagator @ np.reshape(rho0, (d**2, 1))\n",
    "    return np.reshape(vec_rho_t, (d, d))\n",
    "\n",
    "# time steps\n",
    "times = np.linspace(0, 10, 100)\n",
    "# Popoulation of rho0 in time with expm\n",
    "pops = np.array([np.real(np.trace(Propagate(rho0, superop, t) @ rho0)) for t in times])\n",
    "\n",
    "fig, ax = plt.subplots(figsize=(12, 4))\n",
    "ax.plot(times, pops)\n",
    "ax.set_xlabel('t')\n",
    "ax.set_ylabel(r'$\\text{Tr}[\\rho(t)\\rho_0]$')\n",
    "plt.show()"
   ]
  },
  {
   "cell_type": "markdown",
   "metadata": {},
   "source": [
    "**3.4.1. Singular value decomposition of the Liouville superoprator**\n",
    "\n",
    "The superoperator $\\mathcal{L}$ is generally a complex, non-Hermitian matrix. For this reason a spectral decomposition of $\\mathcal{L}$ is not always guaranteed, that is, $\\mathcal{L}$ may not admit the diagonal representation $\\mathcal{L} = VDV^{-1}$.\n",
    "\n",
    "However, $\\mathcal{L}$ always admits a singular value decomposition (SVD), and therefore can be represented in terms of its left and right-singular vectors, $\\boldsymbol{L}_k$ and $\\boldsymbol{R}_k$, respectively, and the set of complex singular values ${\\lambda_k}$, that abide by the following relationships,\n",
    "\n",
    "$$\\mathcal{L}\\boldsymbol{R}_k = \\lambda_k \\boldsymbol{R}_k$$\n",
    "$$\\boldsymbol{L}_k^\\dagger \\mathcal{L} = \\lambda_k \\boldsymbol{L}_k^\\dagger$$\n",
    "\n",
    "Each left and right-singular vectors can be normalized via,\n",
    "\n",
    "$$\\hat{\\boldsymbol{R}}_k = \\boldsymbol{R}_k/\\sqrt{\\boldsymbol{L}_k^\\dagger\\boldsymbol{R}_k}$$\n",
    "\n",
    "$$\\hat{\\boldsymbol{L}}_k^\\dagger = \\boldsymbol{L}_k^\\dagger/\\sqrt{\\boldsymbol{L}_k^\\dagger\\boldsymbol{R}_k}$$\n",
    "\n",
    "The normalized singular vector pairs then follow the usual orthonormalisation condition,\n",
    "\n",
    "$$\\hat{\\boldsymbol{L}}_i^\\dagger\\hat{\\boldsymbol{R}}_j = \\delta_{ij}$$\n",
    "\n",
    "The solution of the $\\dot{\\boldsymbol{\\rho}} = \\mathcal{L}\\boldsymbol{\\rho}$ for a system with time independent Liouville superoperator $\\mathcal{L}$ can now be expresed as follows,\n",
    "\n",
    "$$\\boldsymbol{\\rho}(t) = \\sum_{k=1}^{d^2} \\hat{\\boldsymbol{L}}_k^\\dagger \\boldsymbol{\\rho}(t_0)\\hat{\\boldsymbol{R}}_ke^{\\lambda_k(t-t_0)}$$\n",
    "\n",
    "where d is the dimension of the Hilbert space.\n",
    "\n",
    "The advantage of expressing the time evolution in forms of $\\boldsymbol{\\rho}(t) = exp[\\mathcal{L}(t-t_0)]\\boldsymbol{\\rho}(t_0)$ and the above equation is that it is exact (when the singular values are found exactly) for all times and therefore does not depend on the step size or other operational details of the integration routine used to solve the differential equation.\n",
    "\n",
    "In the following python code, we used scipy to obtain the temporal solution for a system with,\n",
    "\n",
    "$$H=\\hbar \\begin{pmatrix} 0 & \\Omega \\\\ \\Omega & 0 \\end{pmatrix}, \\quad L = \\begin{pmatrix} 0 & 1 \\\\ 1 & 0 \\end{pmatrix}, \\quad \\text{and} \\quad \\boldsymbol{\\rho}(0) = (0, 0, 0, 1)^\\text{T}$$\n",
    "\n",
    "using the singular value decomposition $\\mathcal{L}$."
   ]
  },
  {
   "cell_type": "code",
   "execution_count": 39,
   "metadata": {},
   "outputs": [
    {
     "name": "stdout",
     "output_type": "stream",
     "text": [
      "D = \n",
      "[-2.00000000e-02+1.00000000e-01j -2.00000000e-02-1.00000000e-01j\n",
      "  3.55258933e-18-1.58930249e-20j  6.52009137e-19+2.47105618e-19j]\n",
      "\n",
      "left = \n",
      "[[ 0.5       +0.00000000e+00j -0.5       +8.32667268e-17j\n",
      "   0.7055526 +8.32667268e-17j  0.62691975+7.45931095e-17j]\n",
      " [-0.5       -1.66533454e-16j -0.5       +2.22044605e-16j\n",
      "  -0.035266  -3.08518414e-02j  0.06355101-3.20831575e-01j]\n",
      " [ 0.5       +5.55111512e-17j  0.5       +0.00000000e+00j\n",
      "  -0.035266  -3.08518414e-02j  0.06355101-3.20831575e-01j]\n",
      " [-0.5       -8.32667268e-17j  0.5       -5.55111512e-17j\n",
      "   0.7055526 +0.00000000e+00j  0.62691975+0.00000000e+00j]]\n",
      "\n",
      "right = \n",
      "[[ 0.5       +0.00000000e+00j -0.5       -2.77555756e-17j\n",
      "  -0.06355101-3.20831575e-01j  0.035266  -3.08518414e-02j]\n",
      " [-0.5       -5.55111512e-17j -0.5       +1.11022302e-16j\n",
      "   0.62691975+0.00000000e+00j  0.7055526 +8.32667268e-17j]\n",
      " [ 0.5       +2.77555756e-17j  0.5       +0.00000000e+00j\n",
      "   0.62691975-2.77555756e-17j  0.7055526 +0.00000000e+00j]\n",
      " [-0.5       -2.77555756e-17j  0.5       +2.77555756e-17j\n",
      "  -0.06355101-3.20831575e-01j  0.035266  -3.08518414e-02j]]\n",
      "\n"
     ]
    },
    {
     "data": {
      "image/png": "[encoded data removed]",
      "text/plain": [
       "<Figure size 864x288 with 1 Axes>"
      ]
     },
     "metadata": {
      "needs_background": "light"
     },
     "output_type": "display_data"
    }
   ],
   "source": [
    "import numpy as np\n",
    "from scipy.linalg import eig\n",
    "import matplotlib.pyplot as plt\n",
    "\n",
    "# parameters\n",
    "Omega = 0.05\n",
    "Gamma = Omega / 5\n",
    "\n",
    "# Build the superoperator\n",
    "H_s = np.array([[0, Omega], [Omega, 0]])\n",
    "L = np.sqrt(Gamma) * np.array([[0, 1], [1, 0]])\n",
    "superop = Liouvillian(H_s, [L])\n",
    "\n",
    "# Finding matrices containing normalized right and left eigenvectors\n",
    "D, left, right = eig(superop, left=True, right=True)\n",
    "\n",
    "print(f'D = \\n{D}\\n')\n",
    "print(f'left = \\n{left}\\n')\n",
    "print(f'right = \\n{right}\\n')\n",
    "\n",
    "# inital state in vectorized form\n",
    "vec_rho_0 = np.array([0, 0, 0, 1], dtype=complex)\n",
    "\n",
    "# solution\n",
    "ts = np.linspace(0, 200, 200)\n",
    "vec_rho_t = np.zeros((len(vec_rho_0), len(ts)), dtype=complex)\n",
    "\n",
    "for k in range(len(H_s)**2):\n",
    "    norm_fac = np.sqrt(left[:, k].T.conj() @ right[:, k])\n",
    "    left_k_dag_norm = left[:, k] / norm_fac\n",
    "    right_k_norm = right[:, k] / norm_fac\n",
    "    ak = left_k_dag_norm @ vec_rho_0\n",
    "    vec_rho_t += ak * np.array([right_k_norm * np.exp(D[k] * t) for t in ts]).T\n",
    "\n",
    "# population dynamics\n",
    "fig, ax = plt.subplots(figsize=(12, 4))\n",
    "ax.plot(ts*Omega, np.real(vec_rho_t[3]), 'k-')\n",
    "ax.set_xlabel(r'time ($t\\Omega$)')\n",
    "ax.set_ylabel(r'$\\text{Tr}[\\rho(t)\\rho_0]$')\n",
    "plt.show()"
   ]
  },
  {
   "cell_type": "markdown",
   "metadata": {},
   "source": [
    "**3.4.2 Time-dependent generators**\n",
    "\n",
    "If the Hamiltonian or the decoherence terms depend on time,\n",
    "\n",
    "$$\\boldsymbol{\\dot{\\rho}} = \\mathcal{L}(t)\\boldsymbol{\\rho}$$\n",
    "\n",
    "where the Liouville generator $\\mathcal{L}$ now explicitly depends on time. In this case the solution is not valid.\n",
    "\n",
    "The general solution is given by\n",
    "\n",
    "$$\\boldsymbol{\\rho}(t) = \\mathcal{T}{exp[\\int_0^t ds\\mathcal{L}(s)]}\\boldsymbol{\\rho}(t_0)$$\n",
    "\n",
    "where $\\mathcal{T}$ is the time-ordering operator, analogue to the Dyson series for the time-dependent Hamiltonians and wavefunction propagation. This equation can be approximated, for instance, by means of a sequence of step-wise time-independent generators.\n",
    "\n",
    "If the generator $\\mathcal{L}(t)$ is approximately *piecewise time-independent*, then the equation $\\boldsymbol{\\rho}(t) = exp[\\mathcal{L}(t-t_0)]\\boldsymbol{\\rho}(t_0)$ can be applied to each time slice, using the result of the previous slice to provide the input state for the next slice.\n",
    "\n",
    "It can be used to compute the effect of applying a laser pulse resonant with an atomic transition, to then observing the behaviour of the system while the pulse is on and immediately after it has been turned off."
   ]
  },
  {
   "cell_type": "markdown",
   "metadata": {},
   "source": [
    "For example, let us consider a system with Hamiltonian \n",
    "\n",
    "$$H = H_0 + v(t)H_1$$\n",
    "\n",
    "where \n",
    "\n",
    "$$H_0 = \\omega_0\\sigma_z/2, \\quad H_1 = \\omega_0\\sigma_x/2, \\quad v(t) = \\cos{(\\omega t)}$$\n",
    "\n",
    "and a Lindblad dephasing operator \n",
    "\n",
    "$$J = |g\\rangle\\langle g| = (\\mathbf{1} - \\sigma_z)/2$$\n",
    "\n",
    "with dephasing rate $\\gamma$.\n",
    "\n",
    "The generator $\\mathcal{L}(t) = \\mathcal{L}_0 + \\mathcal{L}_1(t)$ can be split into a time-independent part $\\mathcal{L}_0$, associated with $H_0$ and $L_0$, and a time-dependent part $\\mathcal{L}_1(t)$. To reduce the computational cost when propagating this system, we can update the propagator by updating only the time-dependent part.\n",
    "\n",
    "The following python script generalises the solution to the case of time-dependent generators, by updating the superoperator at each time t. For this approach to be accurate, the time step $\\delta t$ has to be sufficiently smal so that $v(t+\\delta t) \\approx v(t) + \\mathcal{O}(\\delta t^2)$."
   ]
  },
  {
   "cell_type": "code",
   "execution_count": null,
   "metadata": {},
   "outputs": [],
   "source": [
    "import numpy as np\n",
    "import matplotlib.pyplot as plt\n",
    "from scipy.linalg import expm\n",
    "\n",
    "omega0, omega, gamma = 1, 3, 0.3\n",
    "H0"
   ]
  }
 ],
 "metadata": {
  "kernelspec": {
   "display_name": "base",
   "language": "python",
   "name": "python3"
  },
  "language_info": {
   "codemirror_mode": {
    "name": "ipython",
    "version": 3
   },
   "file_extension": ".py",
   "mimetype": "text/x-python",
   "name": "python",
   "nbconvert_exporter": "python",
   "pygments_lexer": "ipython3",
   "version": "3.11.7"
  }
 },
 "nbformat": 4,
 "nbformat_minor": 2
}

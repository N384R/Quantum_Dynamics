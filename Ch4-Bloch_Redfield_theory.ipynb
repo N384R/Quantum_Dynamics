{
 "cells": [
  {
   "cell_type": "markdown",
   "metadata": {},
   "source": [
    "**4. Bloch-Redfield theory**\n",
    "\n",
    "The Bloch-Redfield equation is useful when the system interacts weakly with its environment, and we lack a model for decoherence and relaxation, but we know the nature of the system-environment interactions that drive such processes."
   ]
  },
  {
   "cell_type": "markdown",
   "metadata": {},
   "source": [
    "**4.1. Bloch-Redfield master equation**\n",
    "\n",
    "Let us consider a system $\\text{S}$, with dimension $\\text{dim}_\\text{S}$, that interacts with its environment $\\text{E}$ according to the following general Hamiltonian\n",
    "\n",
    "$$\\begin{align} H &= H_\\text{S} + H_\\text{E} + H_\\text{int} \\\\ &= H_\\text{S} + H_\\text{E} + \\sum_\\alpha A_\\alpha \\otimes B_\\alpha  \\end{align}$$\n",
    "\n",
    "where the coupling operators $A_\\alpha (B_\\alpha)$ are Hermitian and act on the system (environment) such that $H_\\text{int}$ is a samll perturbation of the unperturbed Hamiltonian $H_0 = H_\\text{S} + H_\\text{E}$.\n",
    "\n",
    "Then, under the specific conditions will discuss after the following sections, the dynamics of the system's density operator $\\rho$ in the eigenbasis ${|\\omega_a\\rangle}$ of $H_\\text{S}$ is prescribed by the Bloch-Redfield master equation,\n",
    "\n",
    "$$\\dot{\\rho}_{ab}(t) = -i\\omega_{ab}\\rho_{ab}(t) + \\sum_{c, d} R_{abcd}\\rho_{cd}(t) $$\n",
    "\n",
    "where $\\omega_{ab} = \\omega_{a} - \\omega_{b}$ are the frequencies associated with transitions $|\\omega_b\\rangle \\rightarrow |\\omega_a\\rangle$. The Bloch-Redfield tensor $R_{abcd}$ is prescribed by the following expression, where $\\delta_{ij}$ is the Kronecker delta.\n",
    "\n",
    "$$\\begin{align} R_{abcd} = -\\frac{1}{2\\hbar^2}\\sum_{\\alpha, \\beta} \\biggl\\{&\\delta_{bd} \\sum_{n=1}^{\\text{dim}_\\text{S}} A^{(\\alpha)}_{a n} A^{(\\beta)}_{n c} S_{\\alpha \\beta}(\\omega_{c n}) - A^{(\\alpha)}_{a c} A^{(\\beta)}_{db} S_{\\alpha \\beta}(\\omega_{c a}) + \\\\ &\\delta_{ac} \\sum_{n=1}^{\\text{dim}_\\text{S}} A^{(\\alpha)}_{d n} A^{(\\beta)}_{n b} S_{\\alpha \\beta}(\\omega_{d n}) - A^{(\\alpha)}_{a c} A^{(\\beta)}_{db} S_{\\alpha \\beta}(\\omega_{d b}) \\biggl\\}\\end{align}$$"
   ]
  },
  {
   "cell_type": "code",
   "execution_count": null,
   "metadata": {},
   "outputs": [],
   "source": []
  }
 ],
 "metadata": {
  "kernelspec": {
   "display_name": "base",
   "language": "python",
   "name": "python3"
  },
  "language_info": {
   "codemirror_mode": {
    "name": "ipython",
    "version": 3
   },
   "file_extension": ".py",
   "mimetype": "text/x-python",
   "name": "python",
   "nbconvert_exporter": "python",
   "pygments_lexer": "ipython3",
   "version": "3.11.7"
  }
 },
 "nbformat": 4,
 "nbformat_minor": 2
}

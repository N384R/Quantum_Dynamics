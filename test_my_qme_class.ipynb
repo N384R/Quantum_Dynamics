{
 "cells": [
  {
   "cell_type": "markdown",
   "metadata": {},
   "source": [
    "#### **1. Define System**"
   ]
  },
  {
   "cell_type": "code",
   "execution_count": 13,
   "metadata": {},
   "outputs": [],
   "source": [
    "from jqme import System"
   ]
  },
  {
   "cell_type": "markdown",
   "metadata": {},
   "source": [
    "#### **2. Define Environment**"
   ]
  },
  {
   "cell_type": "code",
   "execution_count": 14,
   "metadata": {},
   "outputs": [],
   "source": [
    "from typing import Literal\n",
    "import numpy as np\n",
    "from qutip import (Qobj,\n",
    "                   mesolve,\n",
    "                   sesolve,\n",
    "                   sigmaz,\n",
    "                   identity,\n",
    "                   basis,\n",
    "                   destroy,\n",
    "                   tensor,\n",
    "                   qzero,\n",
    "                   )\n",
    "\n",
    "\n",
    "class Environment:\n",
    "    def __init__(self):\n",
    "        pass\n",
    "\n",
    "    def get_H_env(self):\n",
    "        pass\n",
    "\n",
    "    def get_H_coupl(self, system: System):\n",
    "        pass\n",
    "\n",
    "\n",
    "class PseudoMode(Environment):\n",
    "    def __init__(self,\n",
    "                 frequencies_pseudomode: float | list[float] | np.ndarray,\n",
    "                 levels_pseudomode: int,\n",
    "                 couplings_ep: float | list[float] | np.ndarray,\n",
    "                 ):\n",
    "        super().__init__()\n",
    "        self.pseudomode(frequencies_pseudomode=frequencies_pseudomode,\n",
    "                        levels_pseudomode=levels_pseudomode,\n",
    "                        couplings_ep=couplings_ep,\n",
    "                        )\n",
    "\n",
    "    @property\n",
    "    def mode_dict(self):\n",
    "        return self._mode_dict\n",
    "\n",
    "    @mode_dict.setter\n",
    "    def mode_dict(self, md):\n",
    "        self._mode_dict = md\n",
    "\n",
    "    def pseudomode(self,\n",
    "                   frequencies_pseudomode: float | list[float] | np.ndarray,\n",
    "                   levels_pseudomode: int,\n",
    "                   couplings_ep: float | list[float] | np.ndarray,\n",
    "                   ):\n",
    "        frequencies_pseudomode = np.atleast_1d(frequencies_pseudomode)\n",
    "        levels_pseudomode = np.atleast_1d(levels_pseudomode)\n",
    "        couplings_ep = np.atleast_1d(couplings_ep)\n",
    "        if frequencies_pseudomode.size != levels_pseudomode.size:\n",
    "            raise ValueError(\n",
    "                'The number of pseudomodes and levels should be the same.')\n",
    "        if frequencies_pseudomode.size != couplings_ep.size:\n",
    "            raise ValueError(\n",
    "                'The number of pseudomodes and couplings should be the same.')\n",
    "\n",
    "        state_mode = self.__set_mode_state(levels_pseudomode)\n",
    "\n",
    "        self.mode_dict = {\n",
    "            'omega_mode': frequencies_pseudomode,\n",
    "            'lvl_mode': levels_pseudomode,\n",
    "            'coupl_ep': couplings_ep,\n",
    "            'state_mode': state_mode,\n",
    "        }\n",
    "\n",
    "    def __set_mode_state(self, levels_pseudomode: np.ndarray):\n",
    "        return [[1.+0.j] + [0.+0.j]*(levels-1) for levels in levels_pseudomode]\n",
    "\n",
    "    def get_H_env(self):\n",
    "        W = len(self.mode_dict['omega_mode'])\n",
    "        d = list(self.mode_dict['lvl_mode'])\n",
    "        Id = [identity(d[k]) for k in range(W)]\n",
    "        H = qzero(dimensions=d)\n",
    "        for k in range(W):\n",
    "            a = destroy(d[k])\n",
    "            H += (self.mode_dict['omega_mode'][k]\n",
    "                  * tensor(*[Id[i] if i != k else a.dag()*a for i in range(W)]))\n",
    "        return H\n",
    "\n",
    "    def get_H_coupl(self, system: System):\n",
    "        N = system.system_size\n",
    "        W = len(self.mode_dict['omega_mode'])\n",
    "        d = list(self.mode_dict['lvl_mode'])\n",
    "        Id = [identity(d[k]) for k in range(W)]\n",
    "        I = identity(2)\n",
    "        sz = sigmaz()\n",
    "        H = qzero(dimensions=[2]*N + d*N)\n",
    "        for i in range(N):\n",
    "            for k in range(W):\n",
    "                a = destroy(d[k])\n",
    "                H += (self.mode_dict['coupl_ep'][k]/2\n",
    "                      * tensor(*[I]*(N-i-1), I-sz, *[I]*i, *Id*(N-i-1),\n",
    "                               *[Id[j] if j != k else a.dag() + a for j in range(W)], *Id*i))\n",
    "        return H\n",
    "\n",
    "    def get_H_global(self, system: System):\n",
    "        N = system.system_size\n",
    "        W = len(self.mode_dict['omega_mode'])\n",
    "        I = identity(2)\n",
    "        d = list(self.mode_dict['lvl_mode'])\n",
    "        Id = [identity(d[k]) for k in range(W)]\n",
    "        H_sys = system.get_H_sys()\n",
    "        H_env = self.get_H_env()\n",
    "        H_coupl = self.get_H_coupl(system)\n",
    "        H = tensor(H_sys, *Id*N) + H_coupl\n",
    "        for i in range(N):\n",
    "            H += tensor(*[I]*N, *Id*(N-i-1), H_env, *Id*i)\n",
    "        return H"
   ]
  },
  {
   "cell_type": "code",
   "execution_count": null,
   "metadata": {},
   "outputs": [],
   "source": []
  },
  {
   "cell_type": "markdown",
   "metadata": {},
   "source": [
    "#### **3. Define evolution**"
   ]
  },
  {
   "cell_type": "code",
   "execution_count": 15,
   "metadata": {},
   "outputs": [],
   "source": [
    "from typing import Literal\n",
    "import numpy as np\n",
    "from qutip import (Qobj,\n",
    "                   mesolve,\n",
    "                   sesolve,\n",
    "                   sigmaz,\n",
    "                   identity,\n",
    "                   basis,\n",
    "                   destroy,\n",
    "                   tensor,\n",
    "                   )\n",
    "\n",
    "\n",
    "class Backend:\n",
    "    def __init__(self,\n",
    "                 method: Literal['classical', 'quantum'],\n",
    "                 **kwargs,\n",
    "                 ):\n",
    "        self.method = method\n",
    "\n",
    "    def _run(self,\n",
    "             hamiltonian: Qobj,\n",
    "             state: Qobj,\n",
    "             time: float | list[float] | np.ndarray,\n",
    "             e_ops: list[Qobj],\n",
    "             c_ops: list[Qobj],\n",
    "             ):\n",
    "        if self.method == 'classical':\n",
    "            solve = sesolve if state == 'ket' else mesolve\n",
    "            return solve(hamiltonian,\n",
    "                         state,\n",
    "                         time,\n",
    "                         e_ops=e_ops,\n",
    "                         c_ops=c_ops,\n",
    "                         )\n",
    "        elif self.method == 'quantum':\n",
    "            return self.run_quantum()"
   ]
  },
  {
   "cell_type": "code",
   "execution_count": 16,
   "metadata": {},
   "outputs": [],
   "source": [
    "class Evolution:\n",
    "    def __init__(self,\n",
    "                 backend: Backend,\n",
    "                 ):\n",
    "        self.backend = backend\n",
    "\n",
    "    def run(self,\n",
    "            system: System,\n",
    "            environment: Environment,\n",
    "            time: float | list[float] | np.ndarray,\n",
    "            rates: float | list[float] | None = None,\n",
    "            ):\n",
    "        if not system.is_valid:\n",
    "            raise ValueError('System is not valid')\n",
    "        # if not environment.is_valid:\n",
    "        #     raise ValueError('Environment is not valid')\n",
    "\n",
    "        e_ops_ = e_ops(system.system_size, basis(2, 1).proj())\n",
    "        c_ops_ = (e_ops(system.system_size, np.sqrt(rates) * sigmaz())\n",
    "                  if rates else [])\n",
    "\n",
    "        results = self.backend._run(system.get_H_sys(),\n",
    "                                    system.get_e_state(),\n",
    "                                    time,\n",
    "                                    e_ops_,\n",
    "                                    c_ops_,\n",
    "                                    )\n",
    "\n",
    "        print('The evolution has been completed')\n",
    "        return results\n",
    "\n",
    "\n",
    "def e_ops(N, op, Id_psudomodes=None):\n",
    "    I = identity(2)\n",
    "    if not Id_psudomodes:\n",
    "        return [tensor(*[I]*(N-i-1), op, *[I]*i) for i in range(N)]\n",
    "    return [tensor(*[I]*(N-i-1), op, *[I]*i, *Id_psudomodes*N) for i in range(N)]"
   ]
  },
  {
   "cell_type": "code",
   "execution_count": 17,
   "metadata": {},
   "outputs": [],
   "source": [
    "import numpy as np\n",
    "from scipy.linalg import toeplitz\n",
    "\n",
    "epsilon = [1, 2]\n",
    "J = toeplitz([0, 1])\n",
    "\n",
    "sys = System(energies=epsilon,\n",
    "             couplings=J,\n",
    "             )"
   ]
  },
  {
   "cell_type": "code",
   "execution_count": 18,
   "metadata": {},
   "outputs": [
    {
     "name": "stdout",
     "output_type": "stream",
     "text": [
      "[1 2]\n",
      "[[0 1]\n",
      " [1 0]]\n",
      "[1. 1.]\n"
     ]
    }
   ],
   "source": [
    "print(sys.energies)\n",
    "print(sys.couplings)\n",
    "print(sys.dipole_moments)"
   ]
  },
  {
   "cell_type": "code",
   "execution_count": 19,
   "metadata": {},
   "outputs": [
    {
     "data": {
      "text/latex": [
       "Quantum object: dims=[[2, 2], [2, 2]], shape=(4, 4), type='oper', dtype=CSR, isherm=True$$\\left(\\begin{array}{cc}-1.500 & 0 & 0 & 0\\\\0 & -0.500 & 1 & 0\\\\0 & 1 & 0.500 & 0\\\\0 & 0 & 0 & 1.500\\end{array}\\right)$$"
      ],
      "text/plain": [
       "Quantum object: dims=[[2, 2], [2, 2]], shape=(4, 4), type='oper', dtype=CSR, isherm=True\n",
       "Qobj data =\n",
       "[[-1.5  0.   0.   0. ]\n",
       " [ 0.  -0.5  1.   0. ]\n",
       " [ 0.   1.   0.5  0. ]\n",
       " [ 0.   0.   0.   1.5]]"
      ]
     },
     "execution_count": 19,
     "metadata": {},
     "output_type": "execute_result"
    }
   ],
   "source": [
    "sys.get_H_sys()"
   ]
  },
  {
   "cell_type": "code",
   "execution_count": 20,
   "metadata": {},
   "outputs": [
    {
     "data": {
      "text/latex": [
       "Quantum object: dims=[[2, 2], [1, 1]], shape=(4, 1), type='ket', dtype=Dense$$\\left(\\begin{array}{cc}0\\\\0.707\\\\0.707\\\\0\\end{array}\\right)$$"
      ],
      "text/plain": [
       "Quantum object: dims=[[2, 2], [1, 1]], shape=(4, 1), type='ket', dtype=Dense\n",
       "Qobj data =\n",
       "[[0.        ]\n",
       " [0.70710678]\n",
       " [0.70710678]\n",
       " [0.        ]]"
      ]
     },
     "execution_count": 20,
     "metadata": {},
     "output_type": "execute_result"
    }
   ],
   "source": [
    "sys.set_state(state_type='delocalized excitation',\n",
    "              state=[1/np.sqrt(2), 1/np.sqrt(2)])\n",
    "\n",
    "sys.get_e_state()"
   ]
  },
  {
   "cell_type": "code",
   "execution_count": 21,
   "metadata": {},
   "outputs": [
    {
     "data": {
      "text/plain": [
       "{'class': 'System',\n",
       " 'is_valid': True,\n",
       " 'quantities': {'energies': array([1, 2]),\n",
       "  'system_size': 2,\n",
       "  'couplings': array([[0, 1],\n",
       "         [1, 0]]),\n",
       "  'dipoles': array([1., 1.]),\n",
       "  'state_type': 'delocalized excitation',\n",
       "  'state': [(0.7071067811865475+0j), (0.7071067811865475+0j)]},\n",
       " 'is_vaild': False}"
      ]
     },
     "execution_count": 21,
     "metadata": {},
     "output_type": "execute_result"
    }
   ],
   "source": [
    "sys.to_dict()"
   ]
  },
  {
   "cell_type": "code",
   "execution_count": 22,
   "metadata": {},
   "outputs": [
    {
     "name": "stdout",
     "output_type": "stream",
     "text": [
      "{'omega_mode': array([0]), 'lvl_mode': array([2]), 'coupl_ep': array([1.]), 'state_mode': [[(1+0j), 0j]]}\n"
     ]
    }
   ],
   "source": [
    "frequenties_pseudomode = [0]\n",
    "Gamma = np.array([2])\n",
    "Omega = np.array([1])\n",
    "\n",
    "env = PseudoMode(frequencies_pseudomode=frequenties_pseudomode,\n",
    "                 levels_pseudomode=[2]*len(frequenties_pseudomode),\n",
    "                 couplings_ep=np.sqrt(Gamma*Omega/2).tolist(),\n",
    "                 )\n",
    "\n",
    "print(env._mode_dict)"
   ]
  },
  {
   "cell_type": "code",
   "execution_count": 23,
   "metadata": {},
   "outputs": [
    {
     "data": {
      "text/latex": [
       "Quantum object: dims=[[2, 2, 2, 2], [2, 2, 2, 2]], shape=(16, 16), type='oper', dtype=CSR, isherm=True$$\\left(\\begin{array}{cc}0 & 0 & 0 & 0 & 0 & \\cdots & 0 & 0 & 0 & 0 & 0\\\\0 & 0 & 0 & 0 & 0 & \\cdots & 0 & 0 & 0 & 0 & 0\\\\0 & 0 & 0 & 0 & 0 & \\cdots & 0 & 0 & 0 & 0 & 0\\\\0 & 0 & 0 & 0 & 0 & \\cdots & 0 & 0 & 0 & 0 & 0\\\\0 & 0 & 0 & 0 & 0 & \\cdots & 0 & 0 & 0 & 0 & 0\\\\\\vdots & \\vdots & \\vdots & \\vdots & \\vdots & \\ddots & \\vdots & \\vdots & \\vdots & \\vdots & \\vdots\\\\0 & 0 & 0 & 0 & 0 & \\cdots & 0 & 0 & 0 & 0 & 0\\\\0 & 0 & 0 & 0 & 0 & \\cdots & 0 & 0 & 1 & 1 & 0\\\\0 & 0 & 0 & 0 & 0 & \\cdots & 0 & 1 & 0 & 0 & 1\\\\0 & 0 & 0 & 0 & 0 & \\cdots & 0 & 1 & 0 & 0 & 1\\\\0 & 0 & 0 & 0 & 0 & \\cdots & 0 & 0 & 1 & 1 & 0\\end{array}\\right)$$"
      ],
      "text/plain": [
       "Quantum object: dims=[[2, 2, 2, 2], [2, 2, 2, 2]], shape=(16, 16), type='oper', dtype=CSR, isherm=True\n",
       "Qobj data =\n",
       "[[0. 0. 0. 0. 0. 0. 0. 0. 0. 0. 0. 0. 0. 0. 0. 0.]\n",
       " [0. 0. 0. 0. 0. 0. 0. 0. 0. 0. 0. 0. 0. 0. 0. 0.]\n",
       " [0. 0. 0. 0. 0. 0. 0. 0. 0. 0. 0. 0. 0. 0. 0. 0.]\n",
       " [0. 0. 0. 0. 0. 0. 0. 0. 0. 0. 0. 0. 0. 0. 0. 0.]\n",
       " [0. 0. 0. 0. 0. 1. 0. 0. 0. 0. 0. 0. 0. 0. 0. 0.]\n",
       " [0. 0. 0. 0. 1. 0. 0. 0. 0. 0. 0. 0. 0. 0. 0. 0.]\n",
       " [0. 0. 0. 0. 0. 0. 0. 1. 0. 0. 0. 0. 0. 0. 0. 0.]\n",
       " [0. 0. 0. 0. 0. 0. 1. 0. 0. 0. 0. 0. 0. 0. 0. 0.]\n",
       " [0. 0. 0. 0. 0. 0. 0. 0. 0. 0. 1. 0. 0. 0. 0. 0.]\n",
       " [0. 0. 0. 0. 0. 0. 0. 0. 0. 0. 0. 1. 0. 0. 0. 0.]\n",
       " [0. 0. 0. 0. 0. 0. 0. 0. 1. 0. 0. 0. 0. 0. 0. 0.]\n",
       " [0. 0. 0. 0. 0. 0. 0. 0. 0. 1. 0. 0. 0. 0. 0. 0.]\n",
       " [0. 0. 0. 0. 0. 0. 0. 0. 0. 0. 0. 0. 0. 1. 1. 0.]\n",
       " [0. 0. 0. 0. 0. 0. 0. 0. 0. 0. 0. 0. 1. 0. 0. 1.]\n",
       " [0. 0. 0. 0. 0. 0. 0. 0. 0. 0. 0. 0. 1. 0. 0. 1.]\n",
       " [0. 0. 0. 0. 0. 0. 0. 0. 0. 0. 0. 0. 0. 1. 1. 0.]]"
      ]
     },
     "execution_count": 23,
     "metadata": {},
     "output_type": "execute_result"
    }
   ],
   "source": [
    "env.get_H_coupl(sys)"
   ]
  },
  {
   "cell_type": "code",
   "execution_count": 24,
   "metadata": {},
   "outputs": [
    {
     "data": {
      "text/latex": [
       "Quantum object: dims=[[2, 2, 2, 2], [2, 2, 2, 2]], shape=(16, 16), type='oper', dtype=CSR, isherm=True$$\\left(\\begin{array}{cc}-1.500 & 0 & 0 & 0 & 0 & \\cdots & 0 & 0 & 0 & 0 & 0\\\\0 & -1.500 & 0 & 0 & 0 & \\cdots & 0 & 0 & 0 & 0 & 0\\\\0 & 0 & -1.500 & 0 & 0 & \\cdots & 0 & 0 & 0 & 0 & 0\\\\0 & 0 & 0 & -1.500 & 0 & \\cdots & 0 & 0 & 0 & 0 & 0\\\\0 & 0 & 0 & 0 & -0.500 & \\cdots & 0 & 0 & 0 & 0 & 0\\\\\\vdots & \\vdots & \\vdots & \\vdots & \\vdots & \\ddots & \\vdots & \\vdots & \\vdots & \\vdots & \\vdots\\\\0 & 0 & 0 & 0 & 0 & \\cdots & 0.500 & 0 & 0 & 0 & 0\\\\0 & 0 & 0 & 0 & 0 & \\cdots & 0 & 1.500 & 1 & 1 & 0\\\\0 & 0 & 0 & 0 & 0 & \\cdots & 0 & 1 & 1.500 & 0 & 1\\\\0 & 0 & 0 & 0 & 0 & \\cdots & 0 & 1 & 0 & 1.500 & 1\\\\0 & 0 & 0 & 0 & 0 & \\cdots & 0 & 0 & 1 & 1 & 1.500\\end{array}\\right)$$"
      ],
      "text/plain": [
       "Quantum object: dims=[[2, 2, 2, 2], [2, 2, 2, 2]], shape=(16, 16), type='oper', dtype=CSR, isherm=True\n",
       "Qobj data =\n",
       "[[-1.5  0.   0.   0.   0.   0.   0.   0.   0.   0.   0.   0.   0.   0.\n",
       "   0.   0. ]\n",
       " [ 0.  -1.5  0.   0.   0.   0.   0.   0.   0.   0.   0.   0.   0.   0.\n",
       "   0.   0. ]\n",
       " [ 0.   0.  -1.5  0.   0.   0.   0.   0.   0.   0.   0.   0.   0.   0.\n",
       "   0.   0. ]\n",
       " [ 0.   0.   0.  -1.5  0.   0.   0.   0.   0.   0.   0.   0.   0.   0.\n",
       "   0.   0. ]\n",
       " [ 0.   0.   0.   0.  -0.5  1.   0.   0.   1.   0.   0.   0.   0.   0.\n",
       "   0.   0. ]\n",
       " [ 0.   0.   0.   0.   1.  -0.5  0.   0.   0.   1.   0.   0.   0.   0.\n",
       "   0.   0. ]\n",
       " [ 0.   0.   0.   0.   0.   0.  -0.5  1.   0.   0.   1.   0.   0.   0.\n",
       "   0.   0. ]\n",
       " [ 0.   0.   0.   0.   0.   0.   1.  -0.5  0.   0.   0.   1.   0.   0.\n",
       "   0.   0. ]\n",
       " [ 0.   0.   0.   0.   1.   0.   0.   0.   0.5  0.   1.   0.   0.   0.\n",
       "   0.   0. ]\n",
       " [ 0.   0.   0.   0.   0.   1.   0.   0.   0.   0.5  0.   1.   0.   0.\n",
       "   0.   0. ]\n",
       " [ 0.   0.   0.   0.   0.   0.   1.   0.   1.   0.   0.5  0.   0.   0.\n",
       "   0.   0. ]\n",
       " [ 0.   0.   0.   0.   0.   0.   0.   1.   0.   1.   0.   0.5  0.   0.\n",
       "   0.   0. ]\n",
       " [ 0.   0.   0.   0.   0.   0.   0.   0.   0.   0.   0.   0.   1.5  1.\n",
       "   1.   0. ]\n",
       " [ 0.   0.   0.   0.   0.   0.   0.   0.   0.   0.   0.   0.   1.   1.5\n",
       "   0.   1. ]\n",
       " [ 0.   0.   0.   0.   0.   0.   0.   0.   0.   0.   0.   0.   1.   0.\n",
       "   1.5  1. ]\n",
       " [ 0.   0.   0.   0.   0.   0.   0.   0.   0.   0.   0.   0.   0.   1.\n",
       "   1.   1.5]]"
      ]
     },
     "execution_count": 24,
     "metadata": {},
     "output_type": "execute_result"
    }
   ],
   "source": [
    "env.get_H_global(sys)"
   ]
  },
  {
   "cell_type": "code",
   "execution_count": 25,
   "metadata": {},
   "outputs": [],
   "source": [
    "dt = 0.01\n",
    "time = np.arange(0, 20, dt)\n",
    "shots = 16000"
   ]
  },
  {
   "cell_type": "code",
   "execution_count": 26,
   "metadata": {},
   "outputs": [
    {
     "name": "stdout",
     "output_type": "stream",
     "text": [
      "The evolution has been completed\n"
     ]
    }
   ],
   "source": [
    "backend = Backend(method='classical')\n",
    "evolution = Evolution(backend=backend)\n",
    "\n",
    "results = evolution.run(system=sys,\n",
    "                        environment=None,\n",
    "                        time=time,\n",
    "                        rates=0.1,\n",
    "                        )"
   ]
  },
  {
   "cell_type": "code",
   "execution_count": 27,
   "metadata": {},
   "outputs": [
    {
     "data": {
      "text/plain": [
       "[[<matplotlib.lines.Line2D at 0x7fcee58a52d0>],\n",
       " [<matplotlib.lines.Line2D at 0x7fcee2cd20d0>]]"
      ]
     },
     "execution_count": 27,
     "metadata": {},
     "output_type": "execute_result"
    },
    {
     "data": {
      "image/png": "[encoded data removed]",
      "text/plain": [
       "<Figure size 640x480 with 1 Axes>"
      ]
     },
     "metadata": {},
     "output_type": "display_data"
    }
   ],
   "source": [
    "import matplotlib.pyplot as plt\n",
    "\n",
    "P_qutip = results.expect\n",
    "error = [np.sqrt(P_qutip[i] * (np.ones_like(P_qutip[i]) - P_qutip[i]))\n",
    "         for i in range(len(epsilon))]\n",
    "\n",
    "[plt.plot(time, P_qutip[i]) for i in range(len(epsilon))]"
   ]
  }
 ],
 "metadata": {
  "kernelspec": {
   "display_name": "base",
   "language": "python",
   "name": "python3"
  },
  "language_info": {
   "codemirror_mode": {
    "name": "ipython",
    "version": 3
   },
   "file_extension": ".py",
   "mimetype": "text/x-python",
   "name": "python",
   "nbconvert_exporter": "python",
   "pygments_lexer": "ipython3",
   "version": "3.11.7"
  }
 },
 "nbformat": 4,
 "nbformat_minor": 2
}

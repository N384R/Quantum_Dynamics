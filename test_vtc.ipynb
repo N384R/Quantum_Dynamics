{
 "cells": [
  {
   "cell_type": "code",
   "execution_count": 185,
   "metadata": {},
   "outputs": [],
   "source": [
    "import numpy as np\n",
    "from scipy.linalg import expm\n",
    "from qutip import (Qobj, sigmaz, identity, destroy,\n",
    "                   basis, zero_ket, qzero, tensor,\n",
    "                   propagator)\n",
    "from qiskit import QuantumCircuit, transpile\n",
    "from qiskit.quantum_info import Statevector\n",
    "\n",
    "SZ = sigmaz()\n",
    "SM = destroy(2)\n",
    "SP = SM.dag()\n",
    "I = identity(2)\n",
    "\n",
    "\n",
    "def density_matrix(state_vector):\n",
    "    return state_vector.proj()\n",
    "\n",
    "\n",
    "def vectorized_rho(rho):\n",
    "    vec_rho = np.array(rho.full()).flatten()\n",
    "    norm = np.linalg.norm(vec_rho)\n",
    "    dim = int(np.log2(rho.shape[0])) * 2\n",
    "    dims = [[2]*dim, [1]*dim]\n",
    "    return Qobj(vec_rho / norm, dims=dims)\n",
    "\n",
    "\n",
    "def unvectorized_rho(vec_rho):\n",
    "    if isinstance(vec_rho, Statevector):\n",
    "        vec_rho = vec_rho.data\n",
    "    elif isinstance(vec_rho, Qobj):\n",
    "        vec_rho = vec_rho.full()\n",
    "    dim = int(np.log2(np.sqrt(vec_rho.shape[0])))\n",
    "    rho_matrix = np.reshape(vec_rho, (2**dim, 2**dim))\n",
    "    return Qobj(rho_matrix, dims=[[2]*dim, [2]*dim])\n",
    "\n",
    "\n",
    "def super_operator(H, lindblad_ops=None):\n",
    "    I = identity(H.dims[0])\n",
    "    super_op = tensor(H, I) - tensor(I, H.trans())\n",
    "\n",
    "    if lindblad_ops:\n",
    "        for L in lindblad_ops:\n",
    "            L_dag = L.dag()\n",
    "            super_op += tensor(L, L_dag) - 0.5 * (\n",
    "                tensor(L_dag * L, I) + tensor(I, L_dag * L)\n",
    "            )\n",
    "\n",
    "    return super_op\n",
    "\n",
    "\n",
    "def count_CNOTs(circuit):\n",
    "    BASIS_GATES = ['cx', 'u1', 'u2', 'u3', 'id']\n",
    "    circuit = transpile(circuit, basis_gates=BASIS_GATES)\n",
    "    return circuit.count_ops()['cx']"
   ]
  },
  {
   "cell_type": "code",
   "execution_count": 186,
   "metadata": {},
   "outputs": [],
   "source": [
    "class System:\n",
    "    def __init__(self,\n",
    "                 energies,\n",
    "                 couplings,\n",
    "                 ):\n",
    "        self.energies = energies\n",
    "        self.couplings = couplings\n",
    "\n",
    "    @property\n",
    "    def system_size(self):\n",
    "        return len(self.energies)\n",
    "\n",
    "    @property\n",
    "    def state(self):\n",
    "        return self._state\n",
    "\n",
    "    @state.setter\n",
    "    def state(self, population):\n",
    "        dim = self.system_size\n",
    "        population /= np.sum(population)\n",
    "        self._state = zero_ket(2**dim)\n",
    "        for i, pop in enumerate(population):\n",
    "            basis_i = basis(2**dim, 2**i)\n",
    "            self._state += np.sqrt(pop) * basis_i\n",
    "        self._state.dims = [[2]*dim, [1]*dim]\n",
    "\n",
    "    def H_sys(self):\n",
    "        H = qzero(dimensions=[2]*self.system_size)\n",
    "        kron_I = [I]*self.system_size\n",
    "        for i, energy in enumerate(self.energies):\n",
    "            operators = kron_I.copy()\n",
    "            operators[i] = SZ\n",
    "            kron_SZ = tensor(*operators)\n",
    "            H += - 0.5 * energy * kron_SZ\n",
    "\n",
    "            for j in range(i+1, self.system_size):\n",
    "                operators_ij = kron_I.copy()\n",
    "                operators_ij[i] = SP\n",
    "                operators_ij[j] = SM\n",
    "                kron_ij = tensor(*operators_ij)\n",
    "\n",
    "                operators_ji = kron_I.copy()\n",
    "                operators_ji[i] = SM\n",
    "                operators_ji[j] = SP\n",
    "                kron_ji = tensor(*operators_ji)\n",
    "\n",
    "                H += self.couplings[i, j] * (kron_ij + kron_ji)\n",
    "        return H"
   ]
  },
  {
   "cell_type": "code",
   "execution_count": 187,
   "metadata": {},
   "outputs": [
    {
     "data": {
      "text/latex": [
       "Quantum object: dims=[[2, 2], [2, 2]], shape=(4, 4), type='oper', dtype=CSR, isherm=True$$\\left(\\begin{array}{cc}-1.500 & 0 & 0 & 0\\\\0 & 0.500 & 1 & 0\\\\0 & 1 & -0.500 & 0\\\\0 & 0 & 0 & 1.500\\end{array}\\right)$$"
      ],
      "text/plain": [
       "Quantum object: dims=[[2, 2], [2, 2]], shape=(4, 4), type='oper', dtype=CSR, isherm=True\n",
       "Qobj data =\n",
       "[[-1.5  0.   0.   0. ]\n",
       " [ 0.   0.5  1.   0. ]\n",
       " [ 0.   1.  -0.5  0. ]\n",
       " [ 0.   0.   0.   1.5]]"
      ]
     },
     "execution_count": 187,
     "metadata": {},
     "output_type": "execute_result"
    }
   ],
   "source": [
    "from scipy.linalg import toeplitz\n",
    "\n",
    "epsilons = [1, 2]\n",
    "J = toeplitz([0, 1])\n",
    "\n",
    "sys = System(epsilons, J)\n",
    "\n",
    "sys.H_sys()"
   ]
  },
  {
   "cell_type": "code",
   "execution_count": 188,
   "metadata": {},
   "outputs": [
    {
     "data": {
      "text/latex": [
       "Quantum object: dims=[[2, 2], [1, 1]], shape=(4, 1), type='ket', dtype=Dense$$\\left(\\begin{array}{cc}0\\\\1\\\\0\\\\0\\end{array}\\right)$$"
      ],
      "text/plain": [
       "Quantum object: dims=[[2, 2], [1, 1]], shape=(4, 1), type='ket', dtype=Dense\n",
       "Qobj data =\n",
       "[[0.]\n",
       " [1.]\n",
       " [0.]\n",
       " [0.]]"
      ]
     },
     "execution_count": 188,
     "metadata": {},
     "output_type": "execute_result"
    }
   ],
   "source": [
    "sys.state = [1, 0]\n",
    "\n",
    "sys.state"
   ]
  },
  {
   "cell_type": "code",
   "execution_count": 189,
   "metadata": {},
   "outputs": [
    {
     "data": {
      "text/latex": [
       "Quantum object: dims=[[2, 2], [2, 2]], shape=(4, 4), type='oper', dtype=Dense, isherm=True$$\\left(\\begin{array}{cc}0 & 0 & 0 & 0\\\\0 & 1 & 0 & 0\\\\0 & 0 & 0 & 0\\\\0 & 0 & 0 & 0\\end{array}\\right)$$"
      ],
      "text/plain": [
       "Quantum object: dims=[[2, 2], [2, 2]], shape=(4, 4), type='oper', dtype=Dense, isherm=True\n",
       "Qobj data =\n",
       "[[0. 0. 0. 0.]\n",
       " [0. 1. 0. 0.]\n",
       " [0. 0. 0. 0.]\n",
       " [0. 0. 0. 0.]]"
      ]
     },
     "execution_count": 189,
     "metadata": {},
     "output_type": "execute_result"
    }
   ],
   "source": [
    "rho = density_matrix(sys.state)\n",
    "\n",
    "rho"
   ]
  },
  {
   "cell_type": "code",
   "execution_count": 190,
   "metadata": {},
   "outputs": [
    {
     "data": {
      "text/latex": [
       "Quantum object: dims=[[2, 2, 2, 2], [1, 1, 1, 1]], shape=(16, 1), type='ket', dtype=Dense$$\\left(\\begin{array}{cc}0\\\\0\\\\0\\\\0\\\\0\\\\\\vdots\\\\0\\\\0\\\\0\\\\0\\\\0\\end{array}\\right)$$"
      ],
      "text/plain": [
       "Quantum object: dims=[[2, 2, 2, 2], [1, 1, 1, 1]], shape=(16, 1), type='ket', dtype=Dense\n",
       "Qobj data =\n",
       "[[0.]\n",
       " [0.]\n",
       " [0.]\n",
       " [0.]\n",
       " [0.]\n",
       " [1.]\n",
       " [0.]\n",
       " [0.]\n",
       " [0.]\n",
       " [0.]\n",
       " [0.]\n",
       " [0.]\n",
       " [0.]\n",
       " [0.]\n",
       " [0.]\n",
       " [0.]]"
      ]
     },
     "execution_count": 190,
     "metadata": {},
     "output_type": "execute_result"
    }
   ],
   "source": [
    "vectorized_rho(rho)"
   ]
  },
  {
   "cell_type": "code",
   "execution_count": 191,
   "metadata": {},
   "outputs": [
    {
     "data": {
      "text/html": [
       "<pre style=\"word-wrap: normal;white-space: pre;background: #fff0;line-height: 1.1;font-family: &quot;Courier New&quot;,Courier,monospace\">     ┌──────────────────────────────────────────────┐\n",
       "q_0: ┤0                                             ├\n",
       "     │                                              │\n",
       "q_1: ┤1                                             ├\n",
       "     │  Initialize(0,0,0,0,0,1,0,0,0,0,0,0,0,0,0,0) │\n",
       "q_2: ┤2                                             ├\n",
       "     │                                              │\n",
       "q_3: ┤3                                             ├\n",
       "     └──────────────────────────────────────────────┘</pre>"
      ],
      "text/plain": [
       "     ┌──────────────────────────────────────────────┐\n",
       "q_0: ┤0                                             ├\n",
       "     │                                              │\n",
       "q_1: ┤1                                             ├\n",
       "     │  Initialize(0,0,0,0,0,1,0,0,0,0,0,0,0,0,0,0) │\n",
       "q_2: ┤2                                             ├\n",
       "     │                                              │\n",
       "q_3: ┤3                                             ├\n",
       "     └──────────────────────────────────────────────┘"
      ]
     },
     "execution_count": 191,
     "metadata": {},
     "output_type": "execute_result"
    }
   ],
   "source": [
    "n_qubits = sys.system_size * 2\n",
    "qc = QuantumCircuit(n_qubits)\n",
    "\n",
    "vec_rho = vectorized_rho(rho)\n",
    "initial_state = Statevector(vec_rho.full())\n",
    "qc.initialize(initial_state, range(n_qubits))\n",
    "\n",
    "qc.draw()"
   ]
  },
  {
   "cell_type": "code",
   "execution_count": 192,
   "metadata": {},
   "outputs": [
    {
     "data": {
      "text/latex": [
       "Quantum object: dims=[[2, 2], [2, 2]], shape=(4, 4), type='oper', dtype=Dense, isherm=True$$\\left(\\begin{array}{cc}0 & 0 & 0 & 0\\\\0 & 1 & 0 & 0\\\\0 & 0 & 0 & 0\\\\0 & 0 & 0 & 0\\end{array}\\right)$$"
      ],
      "text/plain": [
       "Quantum object: dims=[[2, 2], [2, 2]], shape=(4, 4), type='oper', dtype=Dense, isherm=True\n",
       "Qobj data =\n",
       "[[0. 0. 0. 0.]\n",
       " [0. 1. 0. 0.]\n",
       " [0. 0. 0. 0.]\n",
       " [0. 0. 0. 0.]]"
      ]
     },
     "execution_count": 192,
     "metadata": {},
     "output_type": "execute_result"
    }
   ],
   "source": [
    "statevector = Statevector.from_instruction(qc)\n",
    "result_rho = unvectorized_rho(statevector)\n",
    "\n",
    "result_rho"
   ]
  },
  {
   "cell_type": "code",
   "execution_count": 193,
   "metadata": {},
   "outputs": [
    {
     "data": {
      "text/latex": [
       "Quantum object: dims=[[2, 2, 2, 2], [2, 2, 2, 2]], shape=(16, 16), type='oper', dtype=CSR, isherm=True$$\\left(\\begin{array}{cc}0 & 0 & 0 & 0 & 0 & \\cdots & 0 & 0 & 0 & 0 & 0\\\\0 & -2 & -1 & 0 & 0 & \\cdots & 0 & 0 & 0 & 0 & 0\\\\0 & -1 & -1 & 0 & 0 & \\cdots & 0 & 0 & 0 & 0 & 0\\\\0 & 0 & 0 & -3 & 0 & \\cdots & 0 & 0 & 0 & 0 & 0\\\\0 & 0 & 0 & 0 & 2 & \\cdots & 0 & 0 & 0 & 0 & 0\\\\\\vdots & \\vdots & \\vdots & \\vdots & \\vdots & \\ddots & \\vdots & \\vdots & \\vdots & \\vdots & \\vdots\\\\0 & 0 & 0 & 0 & 0 & \\cdots & -2 & 0 & 0 & 0 & 0\\\\0 & 0 & 0 & 0 & 0 & \\cdots & 0 & 3 & 0 & 0 & 0\\\\0 & 0 & 0 & 0 & 0 & \\cdots & 0 & 0 & 1 & -1 & 0\\\\0 & 0 & 0 & 0 & 0 & \\cdots & 0 & 0 & -1 & 2 & 0\\\\0 & 0 & 0 & 0 & 0 & \\cdots & 0 & 0 & 0 & 0 & 0\\end{array}\\right)$$"
      ],
      "text/plain": [
       "Quantum object: dims=[[2, 2, 2, 2], [2, 2, 2, 2]], shape=(16, 16), type='oper', dtype=CSR, isherm=True\n",
       "Qobj data =\n",
       "[[ 0.  0.  0.  0.  0.  0.  0.  0.  0.  0.  0.  0.  0.  0.  0.  0.]\n",
       " [ 0. -2. -1.  0.  0.  0.  0.  0.  0.  0.  0.  0.  0.  0.  0.  0.]\n",
       " [ 0. -1. -1.  0.  0.  0.  0.  0.  0.  0.  0.  0.  0.  0.  0.  0.]\n",
       " [ 0.  0.  0. -3.  0.  0.  0.  0.  0.  0.  0.  0.  0.  0.  0.  0.]\n",
       " [ 0.  0.  0.  0.  2.  0.  0.  0.  1.  0.  0.  0.  0.  0.  0.  0.]\n",
       " [ 0.  0.  0.  0.  0.  0. -1.  0.  0.  1.  0.  0.  0.  0.  0.  0.]\n",
       " [ 0.  0.  0.  0.  0. -1.  1.  0.  0.  0.  1.  0.  0.  0.  0.  0.]\n",
       " [ 0.  0.  0.  0.  0.  0.  0. -1.  0.  0.  0.  1.  0.  0.  0.  0.]\n",
       " [ 0.  0.  0.  0.  1.  0.  0.  0.  1.  0.  0.  0.  0.  0.  0.  0.]\n",
       " [ 0.  0.  0.  0.  0.  1.  0.  0.  0. -1. -1.  0.  0.  0.  0.  0.]\n",
       " [ 0.  0.  0.  0.  0.  0.  1.  0.  0. -1.  0.  0.  0.  0.  0.  0.]\n",
       " [ 0.  0.  0.  0.  0.  0.  0.  1.  0.  0.  0. -2.  0.  0.  0.  0.]\n",
       " [ 0.  0.  0.  0.  0.  0.  0.  0.  0.  0.  0.  0.  3.  0.  0.  0.]\n",
       " [ 0.  0.  0.  0.  0.  0.  0.  0.  0.  0.  0.  0.  0.  1. -1.  0.]\n",
       " [ 0.  0.  0.  0.  0.  0.  0.  0.  0.  0.  0.  0.  0. -1.  2.  0.]\n",
       " [ 0.  0.  0.  0.  0.  0.  0.  0.  0.  0.  0.  0.  0.  0.  0.  0.]]"
      ]
     },
     "execution_count": 193,
     "metadata": {},
     "output_type": "execute_result"
    }
   ],
   "source": [
    "super_op = super_operator(sys.H_sys())\n",
    "\n",
    "super_op"
   ]
  },
  {
   "cell_type": "code",
   "execution_count": 194,
   "metadata": {},
   "outputs": [
    {
     "data": {
      "text/latex": [
       "Quantum object: dims=[[2, 2], [2, 2]], shape=(4, 4), type='oper', dtype=Dense, isherm=False$$\\left(\\begin{array}{cc}(1.000+0.015j) & 0 & 0 & 0\\\\0 & (1.000-0.005j) & -0.010j & 0\\\\0 & -0.010j & (1.000+0.005j) & 0\\\\0 & 0 & 0 & (1.000-0.015j)\\end{array}\\right)$$"
      ],
      "text/plain": [
       "Quantum object: dims=[[2, 2], [2, 2]], shape=(4, 4), type='oper', dtype=Dense, isherm=False\n",
       "Qobj data =\n",
       "[[0.9998875+0.01499944j 0.       +0.j         0.       +0.j\n",
       "  0.       +0.j        ]\n",
       " [0.       +0.j         0.9999375-0.0049999j  0.       -0.00999979j\n",
       "  0.       +0.j        ]\n",
       " [0.       +0.j         0.       -0.00999979j 0.9999375+0.0049999j\n",
       "  0.       +0.j        ]\n",
       " [0.       +0.j         0.       +0.j         0.       +0.j\n",
       "  0.9998875-0.01499944j]]"
      ]
     },
     "execution_count": 194,
     "metadata": {},
     "output_type": "execute_result"
    }
   ],
   "source": [
    "H_propagator = propagator(sys.H_sys(), 0.01)\n",
    "\n",
    "H_propagator"
   ]
  },
  {
   "cell_type": "code",
   "execution_count": 195,
   "metadata": {},
   "outputs": [
    {
     "data": {
      "text/latex": [
       "Quantum object: dims=[[2, 2], [1, 1]], shape=(4, 1), type='ket', dtype=Dense$$\\left(\\begin{array}{cc}0\\\\(1.000-0.005j)\\\\-0.010j\\\\0\\end{array}\\right)$$"
      ],
      "text/plain": [
       "Quantum object: dims=[[2, 2], [1, 1]], shape=(4, 1), type='ket', dtype=Dense\n",
       "Qobj data =\n",
       "[[0.       +0.j        ]\n",
       " [0.9999375-0.0049999j ]\n",
       " [0.       -0.00999979j]\n",
       " [0.       +0.j        ]]"
      ]
     },
     "execution_count": 195,
     "metadata": {},
     "output_type": "execute_result"
    }
   ],
   "source": [
    "result_sv = H_propagator * sys.state\n",
    "\n",
    "result_sv"
   ]
  },
  {
   "cell_type": "code",
   "execution_count": 196,
   "metadata": {},
   "outputs": [
    {
     "data": {
      "text/latex": [
       "Quantum object: dims=[[2, 2], [2, 2]], shape=(4, 4), type='oper', dtype=Dense, isherm=True$$\\left(\\begin{array}{cc}0 & 0 & 0 & 0\\\\0 & 1.000 & 0.010j & 0\\\\0 & -0.010j & 1.000\\times10^{ -4 } & 0\\\\0 & 0 & 0 & 0\\end{array}\\right)$$"
      ],
      "text/plain": [
       "Quantum object: dims=[[2, 2], [2, 2]], shape=(4, 4), type='oper', dtype=Dense, isherm=True\n",
       "Qobj data =\n",
       "[[0.00000000e+00+0.j         0.00000000e+00+0.j\n",
       "  0.00000000e+00+0.j         0.00000000e+00+0.j        ]\n",
       " [0.00000000e+00-0.j         9.99900004e-01+0.j\n",
       "  4.99979165e-05+0.00999917j 0.00000000e+00-0.j        ]\n",
       " [0.00000000e+00-0.j         4.99979165e-05-0.00999917j\n",
       "  9.99958329e-05+0.j         0.00000000e+00-0.j        ]\n",
       " [0.00000000e+00+0.j         0.00000000e+00+0.j\n",
       "  0.00000000e+00+0.j         0.00000000e+00+0.j        ]]"
      ]
     },
     "execution_count": 196,
     "metadata": {},
     "output_type": "execute_result"
    }
   ],
   "source": [
    "result_sv_rho = result_sv.proj()\n",
    "\n",
    "result_sv_rho"
   ]
  },
  {
   "cell_type": "code",
   "execution_count": 197,
   "metadata": {},
   "outputs": [
    {
     "data": {
      "text/latex": [
       "Quantum object: dims=[[2, 2, 2, 2], [2, 2, 2, 2]], shape=(16, 16), type='oper', dtype=Dense, isherm=False$$\\left(\\begin{array}{cc}1 & 0 & 0 & 0 & 0 & \\cdots & 0 & 0 & 0 & 0 & 0\\\\0 & (1.000+0.020j) & 0.010j & 0 & 0 & \\cdots & 0 & 0 & 0 & 0 & 0\\\\0 & 0.010j & (1.000+0.010j) & 0 & 0 & \\cdots & 0 & 0 & 0 & 0 & 0\\\\0 & 0 & 0 & (1.000+0.030j) & 0 & \\cdots & 0 & 0 & 0 & 0 & 0\\\\0 & 0 & 0 & 0 & (1.000-0.020j) & \\cdots & 0 & 0 & 0 & 0 & 0\\\\\\vdots & \\vdots & \\vdots & \\vdots & \\vdots & \\ddots & \\vdots & \\vdots & \\vdots & \\vdots & \\vdots\\\\0 & 0 & 0 & 0 & 0 & \\cdots & (1.000+0.020j) & 0 & 0 & 0 & 0\\\\0 & 0 & 0 & 0 & 0 & \\cdots & 0 & (1.000-0.030j) & 0 & 0 & 0\\\\0 & 0 & 0 & 0 & 0 & \\cdots & 0 & 0 & (1.000-0.010j) & 0.010j & 0\\\\0 & 0 & 0 & 0 & 0 & \\cdots & 0 & 0 & 0.010j & (1.000-0.020j) & 0\\\\0 & 0 & 0 & 0 & 0 & \\cdots & 0 & 0 & 0 & 0 & 1\\end{array}\\right)$$"
      ],
      "text/plain": [
       "Quantum object: dims=[[2, 2, 2, 2], [2, 2, 2, 2]], shape=(16, 16), type='oper', dtype=Dense, isherm=False\n",
       "Qobj data =\n",
       "[[ 1.00000000e+00+0.j          0.00000000e+00+0.j\n",
       "   0.00000000e+00+0.j          0.00000000e+00+0.j\n",
       "   0.00000000e+00+0.j          0.00000000e+00+0.j\n",
       "   0.00000000e+00+0.j          0.00000000e+00+0.j\n",
       "   0.00000000e+00+0.j          0.00000000e+00+0.j\n",
       "   0.00000000e+00+0.j          0.00000000e+00+0.j\n",
       "   0.00000000e+00+0.j          0.00000000e+00+0.j\n",
       "   0.00000000e+00+0.j          0.00000000e+00+0.j        ]\n",
       " [ 0.00000000e+00+0.j          9.99750015e-01+0.01999783j\n",
       "  -1.49990521e-04+0.00999867j  0.00000000e+00+0.j\n",
       "   0.00000000e+00+0.j          0.00000000e+00+0.j\n",
       "   0.00000000e+00+0.j          0.00000000e+00+0.j\n",
       "   0.00000000e+00+0.j          0.00000000e+00+0.j\n",
       "   0.00000000e+00+0.j          0.00000000e+00+0.j\n",
       "   0.00000000e+00+0.j          0.00000000e+00+0.j\n",
       "   0.00000000e+00+0.j          0.00000000e+00+0.j        ]\n",
       " [ 0.00000000e+00+0.j         -1.49990521e-04+0.00999867j\n",
       "   9.99900006e-01+0.00999917j  0.00000000e+00+0.j\n",
       "   0.00000000e+00+0.j          0.00000000e+00+0.j\n",
       "   0.00000000e+00+0.j          0.00000000e+00+0.j\n",
       "   0.00000000e+00+0.j          0.00000000e+00+0.j\n",
       "   0.00000000e+00+0.j          0.00000000e+00+0.j\n",
       "   0.00000000e+00+0.j          0.00000000e+00+0.j\n",
       "   0.00000000e+00+0.j          0.00000000e+00+0.j        ]\n",
       " [ 0.00000000e+00+0.j          0.00000000e+00+0.j\n",
       "   0.00000000e+00+0.j          9.99550037e-01+0.0299955j\n",
       "   0.00000000e+00+0.j          0.00000000e+00+0.j\n",
       "   0.00000000e+00+0.j          0.00000000e+00+0.j\n",
       "   0.00000000e+00+0.j          0.00000000e+00+0.j\n",
       "   0.00000000e+00+0.j          0.00000000e+00+0.j\n",
       "   0.00000000e+00+0.j          0.00000000e+00+0.j\n",
       "   0.00000000e+00+0.j          0.00000000e+00+0.j        ]\n",
       " [ 0.00000000e+00+0.j          0.00000000e+00+0.j\n",
       "   0.00000000e+00+0.j          0.00000000e+00+0.j\n",
       "   9.99750015e-01-0.01999783j  0.00000000e+00+0.j\n",
       "   0.00000000e+00+0.j          0.00000000e+00+0.j\n",
       "  -1.49990521e-04-0.00999867j  0.00000000e+00+0.j\n",
       "   0.00000000e+00+0.j          0.00000000e+00+0.j\n",
       "   0.00000000e+00+0.j          0.00000000e+00+0.j\n",
       "   0.00000000e+00+0.j          0.00000000e+00+0.j        ]\n",
       " [ 0.00000000e+00+0.j          0.00000000e+00+0.j\n",
       "   0.00000000e+00+0.j          0.00000000e+00+0.j\n",
       "   0.00000000e+00+0.j          9.99900005e-01+0.j\n",
       "   4.99977432e-05+0.00999917j  0.00000000e+00+0.j\n",
       "   0.00000000e+00+0.j          4.99977432e-05-0.00999917j\n",
       "   9.99954865e-05+0.j          0.00000000e+00+0.j\n",
       "   0.00000000e+00+0.j          0.00000000e+00+0.j\n",
       "   0.00000000e+00+0.j          0.00000000e+00+0.j        ]\n",
       " [ 0.00000000e+00+0.j          0.00000000e+00+0.j\n",
       "   0.00000000e+00+0.j          0.00000000e+00+0.j\n",
       "   0.00000000e+00+0.j          4.99977432e-05+0.00999917j\n",
       "   9.99850007e-01-0.00999917j  0.00000000e+00+0.j\n",
       "   0.00000000e+00+0.j          9.99954865e-05+0.j\n",
       "  -4.99977432e-05-0.00999917j  0.00000000e+00+0.j\n",
       "   0.00000000e+00+0.j          0.00000000e+00+0.j\n",
       "   0.00000000e+00+0.j          0.00000000e+00+0.j        ]\n",
       " [ 0.00000000e+00+0.j          0.00000000e+00+0.j\n",
       "   0.00000000e+00+0.j          0.00000000e+00+0.j\n",
       "   0.00000000e+00+0.j          0.00000000e+00+0.j\n",
       "   0.00000000e+00+0.j          9.99900006e-01+0.00999917j\n",
       "   0.00000000e+00+0.j          0.00000000e+00+0.j\n",
       "   0.00000000e+00+0.j          1.49990521e-04-0.00999867j\n",
       "   0.00000000e+00+0.j          0.00000000e+00+0.j\n",
       "   0.00000000e+00+0.j          0.00000000e+00+0.j        ]\n",
       " [ 0.00000000e+00+0.j          0.00000000e+00+0.j\n",
       "   0.00000000e+00+0.j          0.00000000e+00+0.j\n",
       "  -1.49990521e-04-0.00999867j  0.00000000e+00+0.j\n",
       "   0.00000000e+00+0.j          0.00000000e+00+0.j\n",
       "   9.99900006e-01-0.00999917j  0.00000000e+00+0.j\n",
       "   0.00000000e+00+0.j          0.00000000e+00+0.j\n",
       "   0.00000000e+00+0.j          0.00000000e+00+0.j\n",
       "   0.00000000e+00+0.j          0.00000000e+00+0.j        ]\n",
       " [ 0.00000000e+00+0.j          0.00000000e+00+0.j\n",
       "   0.00000000e+00+0.j          0.00000000e+00+0.j\n",
       "   0.00000000e+00+0.j          4.99977432e-05-0.00999917j\n",
       "   9.99954865e-05+0.j          0.00000000e+00+0.j\n",
       "   0.00000000e+00+0.j          9.99850007e-01+0.00999917j\n",
       "  -4.99977432e-05+0.00999917j  0.00000000e+00+0.j\n",
       "   0.00000000e+00+0.j          0.00000000e+00+0.j\n",
       "   0.00000000e+00+0.j          0.00000000e+00+0.j        ]\n",
       " [ 0.00000000e+00+0.j          0.00000000e+00+0.j\n",
       "   0.00000000e+00+0.j          0.00000000e+00+0.j\n",
       "   0.00000000e+00+0.j          9.99954865e-05+0.j\n",
       "  -4.99977432e-05-0.00999917j  0.00000000e+00+0.j\n",
       "   0.00000000e+00+0.j         -4.99977432e-05+0.00999917j\n",
       "   9.99900005e-01+0.j          0.00000000e+00+0.j\n",
       "   0.00000000e+00+0.j          0.00000000e+00+0.j\n",
       "   0.00000000e+00+0.j          0.00000000e+00+0.j        ]\n",
       " [ 0.00000000e+00+0.j          0.00000000e+00+0.j\n",
       "   0.00000000e+00+0.j          0.00000000e+00+0.j\n",
       "   0.00000000e+00+0.j          0.00000000e+00+0.j\n",
       "   0.00000000e+00+0.j          1.49990521e-04-0.00999867j\n",
       "   0.00000000e+00+0.j          0.00000000e+00+0.j\n",
       "   0.00000000e+00+0.j          9.99750015e-01+0.01999783j\n",
       "   0.00000000e+00+0.j          0.00000000e+00+0.j\n",
       "   0.00000000e+00+0.j          0.00000000e+00+0.j        ]\n",
       " [ 0.00000000e+00+0.j          0.00000000e+00+0.j\n",
       "   0.00000000e+00+0.j          0.00000000e+00+0.j\n",
       "   0.00000000e+00+0.j          0.00000000e+00+0.j\n",
       "   0.00000000e+00+0.j          0.00000000e+00+0.j\n",
       "   0.00000000e+00+0.j          0.00000000e+00+0.j\n",
       "   0.00000000e+00+0.j          0.00000000e+00+0.j\n",
       "   9.99550037e-01-0.0299955j   0.00000000e+00+0.j\n",
       "   0.00000000e+00+0.j          0.00000000e+00+0.j        ]\n",
       " [ 0.00000000e+00+0.j          0.00000000e+00+0.j\n",
       "   0.00000000e+00+0.j          0.00000000e+00+0.j\n",
       "   0.00000000e+00+0.j          0.00000000e+00+0.j\n",
       "   0.00000000e+00+0.j          0.00000000e+00+0.j\n",
       "   0.00000000e+00+0.j          0.00000000e+00+0.j\n",
       "   0.00000000e+00+0.j          0.00000000e+00+0.j\n",
       "   0.00000000e+00+0.j          9.99900006e-01-0.00999917j\n",
       "   1.49990521e-04+0.00999867j  0.00000000e+00+0.j        ]\n",
       " [ 0.00000000e+00+0.j          0.00000000e+00+0.j\n",
       "   0.00000000e+00+0.j          0.00000000e+00+0.j\n",
       "   0.00000000e+00+0.j          0.00000000e+00+0.j\n",
       "   0.00000000e+00+0.j          0.00000000e+00+0.j\n",
       "   0.00000000e+00+0.j          0.00000000e+00+0.j\n",
       "   0.00000000e+00+0.j          0.00000000e+00+0.j\n",
       "   0.00000000e+00+0.j          1.49990521e-04+0.00999867j\n",
       "   9.99750015e-01-0.01999783j  0.00000000e+00+0.j        ]\n",
       " [ 0.00000000e+00+0.j          0.00000000e+00+0.j\n",
       "   0.00000000e+00+0.j          0.00000000e+00+0.j\n",
       "   0.00000000e+00+0.j          0.00000000e+00+0.j\n",
       "   0.00000000e+00+0.j          0.00000000e+00+0.j\n",
       "   0.00000000e+00+0.j          0.00000000e+00+0.j\n",
       "   0.00000000e+00+0.j          0.00000000e+00+0.j\n",
       "   0.00000000e+00+0.j          0.00000000e+00+0.j\n",
       "   0.00000000e+00+0.j          1.00000000e+00+0.j        ]]"
      ]
     },
     "execution_count": 197,
     "metadata": {},
     "output_type": "execute_result"
    }
   ],
   "source": [
    "L_propagator = propagator(super_op, 0.01)\n",
    "\n",
    "L_propagator"
   ]
  },
  {
   "cell_type": "code",
   "execution_count": 198,
   "metadata": {},
   "outputs": [
    {
     "data": {
      "text/latex": [
       "Quantum object: dims=[[2, 2], [2, 2]], shape=(4, 4), type='oper', dtype=Dense, isherm=True$$\\left(\\begin{array}{cc}0 & 0 & 0 & 0\\\\0 & 1.000 & 0.010j & 0\\\\0 & -0.010j & 1.000\\times10^{ -4 } & 0\\\\0 & 0 & 0 & 0\\end{array}\\right)$$"
      ],
      "text/plain": [
       "Quantum object: dims=[[2, 2], [2, 2]], shape=(4, 4), type='oper', dtype=Dense, isherm=True\n",
       "Qobj data =\n",
       "[[0.00000000e+00+0.j         0.00000000e+00+0.j\n",
       "  0.00000000e+00+0.j         0.00000000e+00+0.j        ]\n",
       " [0.00000000e+00+0.j         9.99900005e-01+0.j\n",
       "  4.99977432e-05+0.00999917j 0.00000000e+00+0.j        ]\n",
       " [0.00000000e+00+0.j         4.99977432e-05-0.00999917j\n",
       "  9.99954865e-05+0.j         0.00000000e+00+0.j        ]\n",
       " [0.00000000e+00+0.j         0.00000000e+00+0.j\n",
       "  0.00000000e+00+0.j         0.00000000e+00+0.j        ]]"
      ]
     },
     "execution_count": 198,
     "metadata": {},
     "output_type": "execute_result"
    }
   ],
   "source": [
    "result_rho = L_propagator * vec_rho\n",
    "result_rho_unvec = unvectorized_rho(result_rho)\n",
    "\n",
    "result_rho_unvec"
   ]
  },
  {
   "cell_type": "markdown",
   "metadata": {},
   "source": [
    "**1. Basic: Just map unitary decomposition**"
   ]
  },
  {
   "cell_type": "code",
   "execution_count": 199,
   "metadata": {},
   "outputs": [
    {
     "name": "stdout",
     "output_type": "stream",
     "text": [
      "CNOTs: 110\n"
     ]
    },
    {
     "data": {
      "text/html": [
       "<pre style=\"word-wrap: normal;white-space: pre;background: #fff0;line-height: 1.1;font-family: &quot;Courier New&quot;,Courier,monospace\">     ┌──────────────────────────────────────────────┐┌──────────┐\n",
       "q_0: ┤0                                             ├┤0         ├\n",
       "     │                                              ││          │\n",
       "q_1: ┤1                                             ├┤1         ├\n",
       "     │  Initialize(0,0,0,0,0,1,0,0,0,0,0,0,0,0,0,0) ││  Unitary │\n",
       "q_2: ┤2                                             ├┤2         ├\n",
       "     │                                              ││          │\n",
       "q_3: ┤3                                             ├┤3         ├\n",
       "     └──────────────────────────────────────────────┘└──────────┘</pre>"
      ],
      "text/plain": [
       "     ┌──────────────────────────────────────────────┐┌──────────┐\n",
       "q_0: ┤0                                             ├┤0         ├\n",
       "     │                                              ││          │\n",
       "q_1: ┤1                                             ├┤1         ├\n",
       "     │  Initialize(0,0,0,0,0,1,0,0,0,0,0,0,0,0,0,0) ││  Unitary │\n",
       "q_2: ┤2                                             ├┤2         ├\n",
       "     │                                              ││          │\n",
       "q_3: ┤3                                             ├┤3         ├\n",
       "     └──────────────────────────────────────────────┘└──────────┘"
      ]
     },
     "execution_count": 199,
     "metadata": {},
     "output_type": "execute_result"
    }
   ],
   "source": [
    "from scipy.linalg import polar\n",
    "from qiskit.circuit.library import UnitaryGate\n",
    "\n",
    "# unitary_part, _ = polar(L_propagator.full())\n",
    "# U = UnitaryGate(unitary_part)\n",
    "\n",
    "U = UnitaryGate(L_propagator.full())\n",
    "\n",
    "qc = QuantumCircuit(n_qubits)\n",
    "qc.initialize(initial_state, range(n_qubits))\n",
    "qc.append(U, range(n_qubits))\n",
    "\n",
    "print(f'CNOTs: {count_CNOTs(qc)}')\n",
    "qc.decompose(reps=0).draw()"
   ]
  },
  {
   "cell_type": "code",
   "execution_count": 200,
   "metadata": {},
   "outputs": [
    {
     "data": {
      "text/latex": [
       "Quantum object: dims=[[2, 2], [2, 2]], shape=(4, 4), type='oper', dtype=Dense, isherm=True$$\\left(\\begin{array}{cc}0 & 0 & 0 & 0\\\\0 & 1.000 & 0.010j & 0\\\\0 & -0.010j & 1.000\\times10^{ -4 } & 0\\\\0 & 0 & 0 & 0\\end{array}\\right)$$"
      ],
      "text/plain": [
       "Quantum object: dims=[[2, 2], [2, 2]], shape=(4, 4), type='oper', dtype=Dense, isherm=True\n",
       "Qobj data =\n",
       "[[0.00000000e+00+0.j         0.00000000e+00+0.j\n",
       "  0.00000000e+00+0.j         0.00000000e+00+0.j        ]\n",
       " [0.00000000e+00+0.j         9.99900005e-01+0.j\n",
       "  4.99977432e-05+0.00999917j 0.00000000e+00+0.j        ]\n",
       " [0.00000000e+00+0.j         4.99977432e-05-0.00999917j\n",
       "  9.99954865e-05+0.j         0.00000000e+00+0.j        ]\n",
       " [0.00000000e+00+0.j         0.00000000e+00+0.j\n",
       "  0.00000000e+00+0.j         0.00000000e+00+0.j        ]]"
      ]
     },
     "execution_count": 200,
     "metadata": {},
     "output_type": "execute_result"
    }
   ],
   "source": [
    "evolved_sv = Statevector.from_instruction(qc)\n",
    "evolved_sv_rho = unvectorized_rho(evolved_sv)\n",
    "\n",
    "evolved_sv_rho"
   ]
  },
  {
   "cell_type": "markdown",
   "metadata": {},
   "source": [
    "**2. Convert to Pauli String**"
   ]
  },
  {
   "cell_type": "code",
   "execution_count": 201,
   "metadata": {},
   "outputs": [
    {
     "name": "stdout",
     "output_type": "stream",
     "text": [
      "Superoperator in Pauli basis:\n",
      "SparsePauliOp(['IIIZ', 'IIZI', 'IZII', 'ZIII', 'IIXX', 'IIYY', 'XXII', 'YYII'],\n",
      "              coeffs=[ 1. +0.j,  0.5+0.j, -1. +0.j, -0.5+0.j, -0.5+0.j, -0.5+0.j,  0.5+0.j,\n",
      "  0.5+0.j])\n",
      "CNOTs: 18\n"
     ]
    },
    {
     "data": {
      "text/html": [
       "<pre style=\"word-wrap: normal;white-space: pre;background: #fff0;line-height: 1.1;font-family: &quot;Courier New&quot;,Courier,monospace\">          ┌──────────────────┐ ┌──────────┐┌─────────────┐┌─────────────┐\n",
       "q_0: ─|0>─┤0                 ├─┤ Rz(0.02) ├┤0            ├┤0            ├\n",
       "          │                  │ ├──────────┤│  Rxx(-0.01) ││  Ryy(-0.01) │\n",
       "q_1: ─|0>─┤1                 ├─┤ Rz(0.01) ├┤1            ├┤1            ├\n",
       "          │  disentangler_dg │┌┴──────────┤└┬────────────┤└┬────────────┤\n",
       "q_2: ─|0>─┤2                 ├┤ Rz(-0.02) ├─┤0           ├─┤0           ├\n",
       "          │                  │├───────────┤ │  Rxx(0.01) │ │  Ryy(0.01) │\n",
       "q_3: ─|0>─┤3                 ├┤ Rz(-0.01) ├─┤1           ├─┤1           ├\n",
       "          └──────────────────┘└───────────┘ └────────────┘ └────────────┘</pre>"
      ],
      "text/plain": [
       "          ┌──────────────────┐ ┌──────────┐┌─────────────┐┌─────────────┐\n",
       "q_0: ─|0>─┤0                 ├─┤ Rz(0.02) ├┤0            ├┤0            ├\n",
       "          │                  │ ├──────────┤│  Rxx(-0.01) ││  Ryy(-0.01) │\n",
       "q_1: ─|0>─┤1                 ├─┤ Rz(0.01) ├┤1            ├┤1            ├\n",
       "          │  disentangler_dg │┌┴──────────┤└┬────────────┤└┬────────────┤\n",
       "q_2: ─|0>─┤2                 ├┤ Rz(-0.02) ├─┤0           ├─┤0           ├\n",
       "          │                  │├───────────┤ │  Rxx(0.01) │ │  Ryy(0.01) │\n",
       "q_3: ─|0>─┤3                 ├┤ Rz(-0.01) ├─┤1           ├─┤1           ├\n",
       "          └──────────────────┘└───────────┘ └────────────┘ └────────────┘"
      ]
     },
     "execution_count": 201,
     "metadata": {},
     "output_type": "execute_result"
    }
   ],
   "source": [
    "from itertools import product\n",
    "from qiskit.quantum_info import SparsePauliOp\n",
    "from qiskit.circuit.library import PauliEvolutionGate\n",
    "from qiskit.synthesis import SuzukiTrotter\n",
    "\n",
    "\n",
    "def filtered_pauli_strings(labels, coefficients):\n",
    "    pauli_items = zip(labels, coefficients)\n",
    "    def count_I(x): return x[0].count('I')\n",
    "    pauli_dict = {label: coeff\n",
    "                  for label, coeff in sorted(pauli_items,\n",
    "                                             key=count_I,\n",
    "                                             reverse=True,\n",
    "                                             )\n",
    "                  if abs(coeff) > 1e-6\n",
    "                  }\n",
    "    pauli_labels = list(pauli_dict.keys())\n",
    "    pauli_coeffs = list(pauli_dict.values())\n",
    "    return pauli_labels, pauli_coeffs\n",
    "\n",
    "\n",
    "pauli_ops = ['I', 'X', 'Y', 'Z']\n",
    "PRODUCT = product(pauli_ops, repeat=sys.system_size*2)\n",
    "pauli_labels = [''.join(p) for p in PRODUCT]\n",
    "pauli_strings = [SparsePauliOp(label) for label in pauli_labels]\n",
    "\n",
    "coefficients = []\n",
    "for pauli in pauli_strings:\n",
    "    norm = 2**(sys.system_size * 2)\n",
    "    pauli_matrix = pauli.to_matrix()\n",
    "    coeff = np.trace(pauli_matrix.conj().T @ super_op.full())\n",
    "    coefficients.append(coeff / norm)\n",
    "\n",
    "pauli_labels, pauli_coeffs = filtered_pauli_strings(pauli_labels, coefficients)\n",
    "\n",
    "super_op_paulis = SparsePauliOp(pauli_labels, pauli_coeffs)\n",
    "propagator_paulis = PauliEvolutionGate(super_op_paulis, 0.01)\n",
    "\n",
    "print('Superoperator in Pauli basis:')\n",
    "print(super_op_paulis)\n",
    "\n",
    "qc = QuantumCircuit(n_qubits)\n",
    "qc.initialize(initial_state, range(n_qubits))\n",
    "qc.append(propagator_paulis, range(n_qubits))\n",
    "\n",
    "print(f'CNOTs: {count_CNOTs(qc)}')\n",
    "qc.decompose(reps=2).draw()"
   ]
  },
  {
   "cell_type": "code",
   "execution_count": 202,
   "metadata": {},
   "outputs": [
    {
     "data": {
      "text/latex": [
       "Quantum object: dims=[[2, 2], [2, 2]], shape=(4, 4), type='oper', dtype=Dense, isherm=True$$\\left(\\begin{array}{cc}0 & 0 & 0 & 0\\\\0 & 1.000 & 0.010j & 0\\\\0 & -0.010j & 1.000\\times10^{ -4 } & 0\\\\0 & 0 & 0 & 0\\end{array}\\right)$$"
      ],
      "text/plain": [
       "Quantum object: dims=[[2, 2], [2, 2]], shape=(4, 4), type='oper', dtype=Dense, isherm=True\n",
       "Qobj data =\n",
       "[[0.00000000e+00+0.j         0.00000000e+00+0.j\n",
       "  0.00000000e+00+0.j         0.00000000e+00+0.j        ]\n",
       " [0.00000000e+00+0.j         9.99900003e-01+0.j\n",
       "  0.00000000e+00+0.00999933j 0.00000000e+00+0.j        ]\n",
       " [0.00000000e+00+0.j         0.00000000e+00-0.00999933j\n",
       "  9.99966667e-05+0.j         0.00000000e+00+0.j        ]\n",
       " [0.00000000e+00+0.j         0.00000000e+00+0.j\n",
       "  0.00000000e+00+0.j         0.00000000e+00+0.j        ]]"
      ]
     },
     "execution_count": 202,
     "metadata": {},
     "output_type": "execute_result"
    }
   ],
   "source": [
    "evolved_sv = Statevector.from_instruction(qc)\n",
    "evolved_sv_rho = unvectorized_rho(evolved_sv)\n",
    "\n",
    "evolved_sv_rho"
   ]
  }
 ],
 "metadata": {
  "kernelspec": {
   "display_name": "base",
   "language": "python",
   "name": "python3"
  },
  "language_info": {
   "codemirror_mode": {
    "name": "ipython",
    "version": 3
   },
   "file_extension": ".py",
   "mimetype": "text/x-python",
   "name": "python",
   "nbconvert_exporter": "python",
   "pygments_lexer": "ipython3",
   "version": "3.11.7"
  }
 },
 "nbformat": 4,
 "nbformat_minor": 2
}
